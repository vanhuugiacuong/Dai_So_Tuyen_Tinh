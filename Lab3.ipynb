{
  "nbformat": 4,
  "nbformat_minor": 0,
  "metadata": {
    "colab": {
      "provenance": [],
      "authorship_tag": "ABX9TyPcCU2OU4j0WpkorjTpyWrh",
      "include_colab_link": true
    },
    "kernelspec": {
      "name": "python3",
      "display_name": "Python 3"
    },
    "language_info": {
      "name": "python"
    }
  },
  "cells": [
    {
      "cell_type": "markdown",
      "metadata": {
        "id": "view-in-github",
        "colab_type": "text"
      },
      "source": [
        "<a href=\"https://colab.research.google.com/github/vanhuugiacuong/Dai_So_Tuyen_Tinh/blob/master/Lab3.ipynb\" target=\"_parent\"><img src=\"https://colab.research.google.com/assets/colab-badge.svg\" alt=\"Open In Colab\"/></a>"
      ]
    },
    {
      "cell_type": "markdown",
      "source": [
        "1. Khởi tạo ma trận:"
      ],
      "metadata": {
        "id": "ZOwm6_PuzfHz"
      }
    },
    {
      "source": [
        "import numpy as np\n",
        "F = np.eye(3, k=1)\n",
        "print(F)"
      ],
      "cell_type": "code",
      "metadata": {
        "colab": {
          "base_uri": "https://localhost:8080/"
        },
        "id": "7mPHVj5WzkW7",
        "outputId": "d64d923b-d0e7-4046-f64a-ea6046f2b692"
      },
      "execution_count": 10,
      "outputs": [
        {
          "output_type": "stream",
          "name": "stdout",
          "text": [
            "[[0. 1. 0.]\n",
            " [0. 0. 1.]\n",
            " [0. 0. 0.]]\n"
          ]
        }
      ]
    },
    {
      "source": [
        "import numpy as np\n",
        "F = np.eye(3, k=0)\n",
        "print(F)"
      ],
      "cell_type": "code",
      "metadata": {
        "colab": {
          "base_uri": "https://localhost:8080/"
        },
        "id": "wnIQfE2DzkvI",
        "outputId": "140f4bc3-240c-4a0b-f155-a888a7bd4a59"
      },
      "execution_count": 9,
      "outputs": [
        {
          "output_type": "stream",
          "name": "stdout",
          "text": [
            "[[1. 0. 0.]\n",
            " [0. 1. 0.]\n",
            " [0. 0. 1.]]\n"
          ]
        }
      ]
    },
    {
      "source": [
        "import numpy as np\n",
        "F = np.eye(3, k=-1)\n",
        "print(F)"
      ],
      "cell_type": "code",
      "metadata": {
        "colab": {
          "base_uri": "https://localhost:8080/"
        },
        "id": "nUBHY45gzk6x",
        "outputId": "3bb486cf-ac0b-4eb9-ebc5-49ef7100fa37"
      },
      "execution_count": 8,
      "outputs": [
        {
          "output_type": "stream",
          "name": "stdout",
          "text": [
            "[[0. 0. 0.]\n",
            " [1. 0. 0.]\n",
            " [0. 1. 0.]]\n"
          ]
        }
      ]
    },
    {
      "cell_type": "markdown",
      "source": [
        "2. Các phép xử lý đơn giản:"
      ],
      "metadata": {
        "id": "6Beaifzjzne9"
      }
    },
    {
      "cell_type": "markdown",
      "source": [],
      "metadata": {
        "id": "xB8nwAqrzbva"
      }
    },
    {
      "source": [
        "import numpy as np\n",
        "C = np.array([[1, 2], [3, 4]])\n",
        "A = np.array([[5, 6], [7, 8]])\n",
        "print(np.linalg.matrix_rank(C))\n",
        "# print(A.I) # Remove this line as .I is deprecated\n",
        "print(np.linalg.inv(A)) # Use np.linalg.inv() instead\n",
        "print(np.linalg.det(A))\n",
        "print(A.T)"
      ],
      "cell_type": "code",
      "metadata": {
        "colab": {
          "base_uri": "https://localhost:8080/"
        },
        "id": "ccCx8Z4bzql1",
        "outputId": "5bb6f10d-862b-443d-e796-6c4107670541"
      },
      "execution_count": 7,
      "outputs": [
        {
          "output_type": "stream",
          "name": "stdout",
          "text": [
            "2\n",
            "[[-4.   3. ]\n",
            " [ 3.5 -2.5]]\n",
            "-2.000000000000005\n",
            "[[5 7]\n",
            " [6 8]]\n"
          ]
        }
      ]
    },
    {
      "cell_type": "markdown",
      "source": [
        "2. Tích (nhân) ma trận với ma trận\n",
        "Mục này ôn lại một số kiến thức lý thuyết và giới thiệu một số loại ma trận đặc biệt.\n",
        "2.1. Nhân ma trận"
      ],
      "metadata": {
        "id": "ePDs7Lbpz9ru"
      }
    },
    {
      "cell_type": "code",
      "source": [
        "# Import thư viện\n",
        "import numpy as np\n",
        "from IPython.display import display\n",
        "\n",
        "# ========================================\n",
        "# 1. Khởi tạo ma trận đường chéo với np.eye\n",
        "# ========================================\n",
        "print(\"Ma trận np.eye(3, k=1):\")\n",
        "F = np.eye(3, k=1)\n",
        "print(F)\n",
        "\n",
        "print(\"\\nMa trận np.eye(3, k=0):\")\n",
        "F = np.eye(3, k=0)\n",
        "print(F)\n",
        "\n",
        "print(\"\\nMa trận np.eye(3, k=-1):\")\n",
        "F = np.eye(3, k=-1)\n",
        "print(F)\n",
        "\n",
        "# ========================================\n",
        "# 2. Các phép xử lý đơn giản với ma trận\n",
        "# ========================================\n",
        "\n",
        "# Định nghĩa ma trận ví dụ\n",
        "A = np.array([[1, 2], [3, 4]])\n",
        "C = np.array([[2, 4], [6, 8]])\n",
        "\n",
        "print(\"\\nRank của ma trận C:\")\n",
        "print(np.linalg.matrix_rank(C))\n",
        "\n",
        "print(\"\\nNghịch đảo của ma trận A:\")\n",
        "print(np.linalg.inv(A))\n",
        "\n",
        "print(\"\\nĐịnh thức của ma trận A:\")\n",
        "print(np.linalg.det(A))\n",
        "\n",
        "print(\"\\nChuyển vị của ma trận A:\")\n",
        "print(A.T)\n",
        "\n",
        "# Để sử dụng .H và .I, cần chuyển A thành np.matrix\n",
        "A_matrix = np.matrix(A)\n",
        "\n",
        "print(\"\\nNghịch đảo A (dùng np.matrix):\")\n",
        "print(A_matrix.I)\n",
        "\n",
        "print(\"\\nChuyển vị liên hợp (Hermitian) A (dùng np.matrix):\")\n",
        "print(A_matrix.H)\n",
        "\n",
        "# ========================================\n",
        "# 3. Nhân ma trận\n",
        "# ========================================\n",
        "N = np.array([\n",
        "    [6, 5, 3, 1],\n",
        "    [3, 6, 2, 2],\n",
        "    [3, 4, 3, 1]\n",
        "])\n",
        "\n",
        "G = np.array([\n",
        "    [1.50, 1.00],\n",
        "    [2.00, 2.50],\n",
        "    [5.00, 4.50],\n",
        "    [16.00, 17.00]\n",
        "])\n",
        "\n",
        "print(\"\\nMa trận N:\")\n",
        "print(N)\n",
        "\n",
        "print(\"\\nMa trận G:\")\n",
        "print(G)\n",
        "\n",
        "total_cost = np.dot(N, G)\n",
        "\n",
        "print(\"\\nTích N x G (total_cost):\")\n",
        "print(total_cost)\n"
      ],
      "metadata": {
        "colab": {
          "base_uri": "https://localhost:8080/"
        },
        "id": "wV-lv89B0Q7A",
        "outputId": "521e2dc7-a88d-4d49-cd0a-f6b71ed2c230"
      },
      "execution_count": 11,
      "outputs": [
        {
          "output_type": "stream",
          "name": "stdout",
          "text": [
            "Ma trận np.eye(3, k=1):\n",
            "[[0. 1. 0.]\n",
            " [0. 0. 1.]\n",
            " [0. 0. 0.]]\n",
            "\n",
            "Ma trận np.eye(3, k=0):\n",
            "[[1. 0. 0.]\n",
            " [0. 1. 0.]\n",
            " [0. 0. 1.]]\n",
            "\n",
            "Ma trận np.eye(3, k=-1):\n",
            "[[0. 0. 0.]\n",
            " [1. 0. 0.]\n",
            " [0. 1. 0.]]\n",
            "\n",
            "Rank của ma trận C:\n",
            "2\n",
            "\n",
            "Nghịch đảo của ma trận A:\n",
            "[[-2.   1. ]\n",
            " [ 1.5 -0.5]]\n",
            "\n",
            "Định thức của ma trận A:\n",
            "-2.0000000000000004\n",
            "\n",
            "Chuyển vị của ma trận A:\n",
            "[[1 3]\n",
            " [2 4]]\n",
            "\n",
            "Nghịch đảo A (dùng np.matrix):\n",
            "[[-2.   1. ]\n",
            " [ 1.5 -0.5]]\n",
            "\n",
            "Chuyển vị liên hợp (Hermitian) A (dùng np.matrix):\n",
            "[[1 3]\n",
            " [2 4]]\n",
            "\n",
            "Ma trận N:\n",
            "[[6 5 3 1]\n",
            " [3 6 2 2]\n",
            " [3 4 3 1]]\n",
            "\n",
            "Ma trận G:\n",
            "[[ 1.5  1. ]\n",
            " [ 2.   2.5]\n",
            " [ 5.   4.5]\n",
            " [16.  17. ]]\n",
            "\n",
            "Tích N x G (total_cost):\n",
            "[[50.  49. ]\n",
            " [58.5 61. ]\n",
            " [43.5 43.5]]\n"
          ]
        }
      ]
    },
    {
      "cell_type": "markdown",
      "source": [
        "2.2. Ma trận khả nghịch"
      ],
      "metadata": {
        "id": "kGW6ALFS1p6f"
      }
    },
    {
      "cell_type": "code",
      "source": [
        "import numpy as np\n",
        "\n",
        "# Tạo một ma trận vuông A\n",
        "A = np.array([[2, 1],\n",
        "              [5, 3]])\n",
        "\n",
        "# Kiểm tra định thức khác 0 → khả nghịch\n",
        "det_A = np.linalg.det(A)\n",
        "print(\"Định thức của A:\", det_A)\n",
        "\n",
        "if det_A != 0:\n",
        "    # Tính ma trận nghịch đảo\n",
        "    A_inv = np.linalg.inv(A)\n",
        "    print(\"\\nMa trận nghịch đảo A⁻¹:\")\n",
        "    print(A_inv)\n",
        "\n",
        "    # Kiểm tra A * A⁻¹ = I\n",
        "    identity = np.dot(A, A_inv)\n",
        "    print(\"\\nKiểm tra A * A⁻¹:\")\n",
        "    print(identity)\n",
        "else:\n",
        "    print(\"Ma trận A không khả nghịch (det = 0)\")"
      ],
      "metadata": {
        "id": "D_isjMF_1rPq"
      },
      "execution_count": null,
      "outputs": []
    },
    {
      "cell_type": "markdown",
      "source": [
        "2.3. Ma trận hội tụ"
      ],
      "metadata": {
        "id": "KLmwji9t18IF"
      }
    },
    {
      "cell_type": "code",
      "source": [
        "import numpy as np\n",
        "\n",
        "print(\"===== Ma trận A =====\")\n",
        "A = np.array([[0, 1], [1, 0]])\n",
        "print(\"A =\\n\", A)\n",
        "\n",
        "temp = A.dot(A)\n",
        "print(\"\\nA^2 =\\n\", temp)\n",
        "\n",
        "k = 6\n",
        "print(\"\\nCác lũy thừa tiếp theo của A:\")\n",
        "for i in range(k - 1):\n",
        "    temp = temp.dot(A)\n",
        "    print(f\"A^{i+3} =\\n{temp}\")\n",
        "    print('---')\n",
        "\n",
        "print(\"\\n>>> Nhận xét:\")\n",
        "print(\"Ma trận A là ma trận hoán vị (swap), có chu kỳ lặp lại mỗi 2 lần:\")\n",
        "print(\"A^1 = swap, A^2 = I, A^3 = A, A^4 = I, ... → phân kỳ theo chu kỳ.\")\n",
        "\n",
        "# ---------------------------------\n",
        "\n",
        "print(\"\\n\\n===== Ma trận B =====\")\n",
        "B = np.array([[0, -1], [-1, 0]])\n",
        "print(\"B =\\n\", B)\n",
        "\n",
        "temp = B.dot(B)\n",
        "print(\"\\nB^2 =\\n\", temp)\n",
        "\n",
        "k = 5\n",
        "print(\"\\nCác lũy thừa tiếp theo của B:\")\n",
        "for i in range(k - 1):\n",
        "    temp = temp.dot(B)\n",
        "    print(f\"B^{i+3} =\\n{temp}\")\n",
        "    print('---')\n",
        "\n",
        "print(\"\\n>>> Nhận xét:\")\n",
        "print(\"Ma trận B cũng có chu kỳ lặp lại sau mỗi 2 lần:\")\n",
        "print(\"B^2 = I, B^3 = B, B^4 = I, ... → phân kỳ theo chu kỳ.\")\n",
        "\n",
        "# ---------------------------------\n",
        "\n",
        "print(\"\\n\\n===== Ma trận C (Hội tụ) =====\")\n",
        "C = np.array([[1, 0, 0], [0, 0.5, 1], [0, 0, 0.5]])\n",
        "print(\"C =\\n\", C)\n",
        "\n",
        "temp = C.dot(C)\n",
        "print(\"\\nC^2 =\\n\", temp)\n",
        "\n",
        "# Lũy thừa lớn\n",
        "k = 1000\n",
        "for i in range(k - 1):\n",
        "    temp = temp.dot(C)\n",
        "\n",
        "print(\"\\n>>> C^1000 =\\n\", temp)\n",
        "print(\">>> Nhận xét:\")\n",
        "print(\"Khi T → ∞, các phần tử ngoài đường chéo bị triệt tiêu, C^T hội tụ về dạng tam giác trên.\")\n",
        "\n",
        "# Tính tiếp 1000 lần nữa\n",
        "for i in range(k - 1):\n",
        "    temp = temp.dot(C)\n",
        "\n",
        "print(\"\\n>>> C^2000 =\\n\", temp)\n",
        "print(\">>> Nhận xét:\")\n",
        "print(\"Càng nhân tiếp, ma trận càng hội tụ về trạng thái ổn định — chỉ còn các giá trị nhỏ dần trên đường chéo.\")\n"
      ],
      "metadata": {
        "colab": {
          "base_uri": "https://localhost:8080/"
        },
        "id": "OL-EhI2N18y-",
        "outputId": "ddc27665-5016-42bb-b204-99e5d3765ffc"
      },
      "execution_count": 12,
      "outputs": [
        {
          "output_type": "stream",
          "name": "stdout",
          "text": [
            "===== Ma trận A =====\n",
            "A =\n",
            " [[0 1]\n",
            " [1 0]]\n",
            "\n",
            "A^2 =\n",
            " [[1 0]\n",
            " [0 1]]\n",
            "\n",
            "Các lũy thừa tiếp theo của A:\n",
            "A^3 =\n",
            "[[0 1]\n",
            " [1 0]]\n",
            "---\n",
            "A^4 =\n",
            "[[1 0]\n",
            " [0 1]]\n",
            "---\n",
            "A^5 =\n",
            "[[0 1]\n",
            " [1 0]]\n",
            "---\n",
            "A^6 =\n",
            "[[1 0]\n",
            " [0 1]]\n",
            "---\n",
            "A^7 =\n",
            "[[0 1]\n",
            " [1 0]]\n",
            "---\n",
            "\n",
            ">>> Nhận xét:\n",
            "Ma trận A là ma trận hoán vị (swap), có chu kỳ lặp lại mỗi 2 lần:\n",
            "A^1 = swap, A^2 = I, A^3 = A, A^4 = I, ... → phân kỳ theo chu kỳ.\n",
            "\n",
            "\n",
            "===== Ma trận B =====\n",
            "B =\n",
            " [[ 0 -1]\n",
            " [-1  0]]\n",
            "\n",
            "B^2 =\n",
            " [[1 0]\n",
            " [0 1]]\n",
            "\n",
            "Các lũy thừa tiếp theo của B:\n",
            "B^3 =\n",
            "[[ 0 -1]\n",
            " [-1  0]]\n",
            "---\n",
            "B^4 =\n",
            "[[1 0]\n",
            " [0 1]]\n",
            "---\n",
            "B^5 =\n",
            "[[ 0 -1]\n",
            " [-1  0]]\n",
            "---\n",
            "B^6 =\n",
            "[[1 0]\n",
            " [0 1]]\n",
            "---\n",
            "\n",
            ">>> Nhận xét:\n",
            "Ma trận B cũng có chu kỳ lặp lại sau mỗi 2 lần:\n",
            "B^2 = I, B^3 = B, B^4 = I, ... → phân kỳ theo chu kỳ.\n",
            "\n",
            "\n",
            "===== Ma trận C (Hội tụ) =====\n",
            "C =\n",
            " [[1.  0.  0. ]\n",
            " [0.  0.5 1. ]\n",
            " [0.  0.  0.5]]\n",
            "\n",
            "C^2 =\n",
            " [[1.   0.   0.  ]\n",
            " [0.   0.25 1.  ]\n",
            " [0.   0.   0.25]]\n",
            "\n",
            ">>> C^1000 =\n",
            " [[1.00000000e+000 0.00000000e+000 0.00000000e+000]\n",
            " [0.00000000e+000 4.66631809e-302 9.34196882e-299]\n",
            " [0.00000000e+000 0.00000000e+000 4.66631809e-302]]\n",
            ">>> Nhận xét:\n",
            "Khi T → ∞, các phần tử ngoài đường chéo bị triệt tiêu, C^T hội tụ về dạng tam giác trên.\n",
            "\n",
            ">>> C^2000 =\n",
            " [[1. 0. 0.]\n",
            " [0. 0. 0.]\n",
            " [0. 0. 0.]]\n",
            ">>> Nhận xét:\n",
            "Càng nhân tiếp, ma trận càng hội tụ về trạng thái ổn định — chỉ còn các giá trị nhỏ dần trên đường chéo.\n"
          ]
        }
      ]
    },
    {
      "cell_type": "markdown",
      "source": [
        "2.4. Ma trận Markov"
      ],
      "metadata": {
        "id": "lv_ziAV62F5Q"
      }
    },
    {
      "cell_type": "code",
      "source": [
        "import numpy as np\n",
        "\n",
        "# Ma trận Markov ban đầu\n",
        "M = np.array([[0.8, 0.3],\n",
        "              [0.2, 0.7]])\n",
        "\n",
        "print(\"M =\\n\", M)\n",
        "\n",
        "# Tính M^2\n",
        "M2 = M.dot(M)\n",
        "print(\"\\nM^2 =\\n\", M2)\n",
        "\n",
        "# Tính M^3\n",
        "M3 = M2.dot(M)\n",
        "print(\"\\nM^3 =\\n\", M3)\n",
        "\n",
        "# Tính M^100\n",
        "MM = M3.copy()\n",
        "for i in range(97):  # đã có M3 rồi nên chỉ cần nhân thêm 97 lần\n",
        "    MM = MM.dot(M)\n",
        "\n",
        "print(\"\\nM^100 =\\n\", MM)\n",
        "\n",
        "print(\"\\n>>> Nhận xét:\")\n",
        "print(\"M^100 hội tụ về ma trận mà các cột giống nhau.\")\n",
        "print(\"→ Thị phần ổn định giữa A và B:\")\n",
        "print(\"Hãng A chiếm khoảng\", round(MM[0, 0], 2), \", Hãng B khoảng\", round(MM[1, 0], 2))\n"
      ],
      "metadata": {
        "id": "q1FRvsEN2FPd"
      },
      "execution_count": null,
      "outputs": []
    },
    {
      "cell_type": "markdown",
      "source": [
        "3.1. Khái niệm về tách ma trận"
      ],
      "metadata": {
        "id": "hNmwyLYV2dGz"
      }
    },
    {
      "cell_type": "code",
      "source": [
        "import numpy as np\n",
        "\n",
        "# Tạo 2 vector/mảng (ma trận nhỏ hơn)\n",
        "# B có kích thước (4 x 1)\n",
        "B = np.array([\n",
        "    [5],\n",
        "    [7],\n",
        "    [6],\n",
        "    [8]\n",
        "])\n",
        "\n",
        "# C có kích thước (1 x 4)\n",
        "C = np.array([\n",
        "    [1, 1, 1, 1]\n",
        "])\n",
        "\n",
        "# Tính tích A = B x C, kết quả là ma trận (4 x 4)\n",
        "A = B @ C  # hoặc dùng B.dot(C)\n",
        "print(\"Ma trận A được khôi phục từ B và C là:\\n\")\n",
        "print(A)\n"
      ],
      "metadata": {
        "id": "i2mvvlNc2eQH"
      },
      "execution_count": null,
      "outputs": []
    },
    {
      "cell_type": "markdown",
      "source": [
        "3.2. Phân rã ma trận LU"
      ],
      "metadata": {
        "id": "T8WW-pcJ2mF8"
      }
    },
    {
      "cell_type": "code",
      "source": [
        "import numpy as np\n",
        "from scipy import linalg\n",
        "\n",
        "# Khai báo ma trận M\n",
        "M = np.array([\n",
        "    [0.8, 0.3],\n",
        "    [0.2, 0.7]\n",
        "])\n",
        "\n",
        "# Thực hiện phân rã LU\n",
        "P, L, U = linalg.lu(M)\n",
        "\n",
        "# In kết quả\n",
        "print(\"Ma trận P (hoán vị):\")\n",
        "print(P)\n",
        "\n",
        "print(\"\\nMa trận L (tam giác dưới):\")\n",
        "print(L)\n",
        "\n",
        "print(\"\\nMa trận U (tam giác trên):\")\n",
        "print(U)\n",
        "\n",
        "# Kiểm tra lại: L.dot(U) có bằng P.dot(M) không?\n",
        "print(\"\\nL.dot(U):\")\n",
        "print(L.dot(U))\n",
        "\n",
        "print(\"\\nP.dot(M):\")\n",
        "print(P.dot(M))\n",
        "\n",
        "# Kiểm tra sai số giữa 2 kết quả\n",
        "print(\"\\nSai số (P @ M - L @ U):\")\n",
        "print(np.round(P @ M - L @ U, 10))\n"
      ],
      "metadata": {
        "id": "gfnR78p02mZE"
      },
      "execution_count": null,
      "outputs": []
    },
    {
      "cell_type": "markdown",
      "source": [],
      "metadata": {
        "id": "0rhETa8W27Ah"
      }
    },
    {
      "cell_type": "markdown",
      "source": [
        "4. Bài toán ứng dụng 1 – Căn bản về mật mã học, mã hóa thông tin, mật khẩu"
      ],
      "metadata": {
        "id": "T0Sq233V2-Ky"
      }
    },
    {
      "cell_type": "code",
      "source": [
        "import numpy as np\n",
        "\n",
        "# Chuỗi gốc được chuyển thành các số\n",
        "X = np.array([\n",
        "    [13, 11, 17],\n",
        "    [1, 0, 11],\n",
        "    [17, 34, 5],\n",
        "    [0, 6, 26],\n",
        "    [33, 0, 14],\n",
        "    [12, 9, 34],\n",
        "    [25, 35, 35]  # Dòng cuối sẽ chứa mã 35 (không mã), có thể bỏ nếu cần\n",
        "])\n",
        "\n",
        "# Ma trận khóa (3x3)\n",
        "M = np.array([\n",
        "    [3, 1, -2],\n",
        "    [2, -1, 1],\n",
        "    [1, -1, -4]\n",
        "])\n",
        "\n",
        "Y = X @ M.T  # Nhân với chuyển vị để xử lý đúng dạng hàng x cột\n",
        "print(\"Dãy mã hóa:\")\n",
        "print(Y)\n",
        "\n",
        "# Tính nghịch đảo ma trận M\n",
        "M_inv = np.linalg.inv(M)\n",
        "\n",
        "# Giải mã: nhân mã hóa với nghịch đảo\n",
        "X_decoded = np.round(Y @ M_inv.T).astype(int)  # Làm tròn và ép kiểu int để khôi phục\n",
        "print(\"Dãy khôi phục lại:\")\n",
        "print(X_decoded)"
      ],
      "metadata": {
        "id": "WtfDCzZw3Mze"
      },
      "execution_count": null,
      "outputs": []
    },
    {
      "cell_type": "markdown",
      "source": [
        "5. Bài toán ứng dụng 2 – Bài toán loan tin"
      ],
      "metadata": {
        "id": "9V8V_0Dg3Teg"
      }
    },
    {
      "cell_type": "code",
      "source": [
        "import numpy as np\n",
        "\n",
        "A = np.array([\n",
        "    [0, 1, 0, 1],\n",
        "    [0, 0, 1, 0],\n",
        "    [1, 0, 0, 1],\n",
        "    [1, 1, 0, 0]\n",
        "])\n",
        "\n",
        "temp = A.dot(A)\n",
        "print(\"A^2:\")\n",
        "print(temp)"
      ],
      "metadata": {
        "id": "naChbbgd3T6S"
      },
      "execution_count": null,
      "outputs": []
    },
    {
      "cell_type": "markdown",
      "source": [
        " ***BÀI TẬP CHƯƠNG 3 ***"
      ],
      "metadata": {
        "id": "jcsb5Asc3htP"
      }
    },
    {
      "cell_type": "markdown",
      "source": [
        "Câu 1: Hãy viết chương trình bằng Python hoặc sử dụng thư viện numpy/sympy để:\n"
      ],
      "metadata": {
        "id": "LPwHE3vW3ntJ"
      }
    },
    {
      "cell_type": "code",
      "source": [
        "import numpy as np\n",
        "\n",
        "# a. Chọn ma trận khả nghịch 3x3\n",
        "A = np.array([\n",
        "    [2, 1, 1],\n",
        "    [1, 3, 2],\n",
        "    [1, 0, 0]\n",
        "])\n",
        "\n",
        "# Kiểm tra khả nghịch\n",
        "det = np.linalg.det(A)\n",
        "if det == 0:\n",
        "    print(\"Ma trận không khả nghịch.\")\n",
        "    exit()\n",
        "else:\n",
        "    print(\"Ma trận A khả nghịch. Định thức =\", det)\n",
        "\n",
        "A_inv = np.linalg.inv(A)\n",
        "\n",
        "# b. Nhập họ và tên hoặc MSSV\n",
        "text = input(\"Nhập họ và tên hoặc mã số sinh viên: \")\n",
        "\n",
        "# c. Mã hóa\n",
        "# Chuyển chuỗi sang mã ASCII\n",
        "ascii_vals = [ord(c) for c in text]\n",
        "\n",
        "# Thêm số 0 để chia hết cho 3\n",
        "while len(ascii_vals) % 3 != 0:\n",
        "    ascii_vals.append(0)\n",
        "\n",
        "# Mã hóa từng nhóm 3 phần tử\n",
        "cipher = []\n",
        "for i in range(0, len(ascii_vals), 3):\n",
        "    vec = np.array(ascii_vals[i:i+3]).reshape(3, 1)\n",
        "    enc_vec = A.dot(vec)\n",
        "    cipher.append(enc_vec)\n",
        "\n",
        "print(\"\\nMã hóa (danh sách các vector mã hóa):\")\n",
        "for vec in cipher:\n",
        "    print(vec.T)\n",
        "\n",
        "# d. Giải mã\n",
        "decoded = []\n",
        "for vec in cipher:\n",
        "    dec_vec = A_inv.dot(vec)\n",
        "    decoded.extend(dec_vec.flatten().round().astype(int))\n",
        "\n",
        "# Loại bỏ số 0 padding nếu có\n",
        "decoded_text = ''.join([chr(x) for x in decoded if x != 0])\n",
        "\n",
        "print(\"\\nGiải mã:\")\n",
        "print(decoded_text)"
      ],
      "metadata": {
        "id": "H97cEiQU3skU"
      },
      "execution_count": null,
      "outputs": []
    },
    {
      "cell_type": "markdown",
      "source": [
        "Câu 2: Tính toán phân số từ liên phân số (continued fractions)"
      ],
      "metadata": {
        "id": "ygOR3DN63z0P"
      }
    },
    {
      "cell_type": "code",
      "source": [
        "import numpy as np\n",
        "from fractions import Fraction\n",
        "\n",
        "def continued_fraction_to_fraction(cf):\n",
        "    # cf: list chứa các phần tử [a0, a1, ..., an]\n",
        "    M = np.array([[cf[0], 1],\n",
        "                  [1,     0]])\n",
        "\n",
        "    for ai in cf[1:]:\n",
        "        Mi = np.array([[ai, 1],\n",
        "                       [1,  0]])\n",
        "        M = np.dot(Mi, M)\n",
        "\n",
        "    numerator = M[0, 0]\n",
        "    denominator = M[1, 0]\n",
        "    return Fraction(numerator, denominator)\n",
        "\n",
        "# Ví dụ\n",
        "cf = [3, 1, 2]  # tương ứng với 8/3\n",
        "frac = continued_fraction_to_fraction(cf)\n",
        "print(f\"Dạng phân số: {frac} = {frac.numerator}/{frac.denominator}\")"
      ],
      "metadata": {
        "id": "K5s43AHH30I_"
      },
      "execution_count": null,
      "outputs": []
    }
  ]
}