{
  "nbformat": 4,
  "nbformat_minor": 0,
  "metadata": {
    "colab": {
      "provenance": [],
      "toc_visible": true,
      "authorship_tag": "ABX9TyONQdhMLcg+FH62OE7L2wWT",
      "include_colab_link": true
    },
    "kernelspec": {
      "name": "python3",
      "display_name": "Python 3"
    },
    "language_info": {
      "name": "python"
    }
  },
  "cells": [
    {
      "cell_type": "markdown",
      "metadata": {
        "id": "view-in-github",
        "colab_type": "text"
      },
      "source": [
        "<a href=\"https://colab.research.google.com/github/vanhuugiacuong/Dai_So_Tuyen_Tinh/blob/master/Lab8_DSTT.ipynb\" target=\"_parent\"><img src=\"https://colab.research.google.com/assets/colab-badge.svg\" alt=\"Open In Colab\"/></a>"
      ]
    },
    {
      "cell_type": "markdown",
      "source": [
        "1. Các bài toán cơ bản về không gian vector\n"
      ],
      "metadata": {
        "id": "q2yFnMbj_pSw"
      }
    },
    {
      "cell_type": "markdown",
      "source": [
        "Bài 1: Tính toán vector\n"
      ],
      "metadata": {
        "id": "9UYAIPRE_MWL"
      }
    },
    {
      "cell_type": "code",
      "execution_count": 8,
      "metadata": {
        "colab": {
          "base_uri": "https://localhost:8080/"
        },
        "id": "OyK8wGTV-oTX",
        "outputId": "020607e2-a6f8-4593-9a9d-4e8410e75143"
      },
      "outputs": [
        {
          "output_type": "stream",
          "name": "stdout",
          "text": [
            "[ 18 -11   9  -8]\n",
            "[ 9.  -5.5  4.5 -4. ]\n"
          ]
        }
      ],
      "source": [
        "\n",
        "import numpy as np\n",
        "u = np.array([2, -1, 5, 0])\n",
        "v = np.array([4, 3, 1, -1])\n",
        "w = np.array([-6, 2, 0, 3])\n",
        "x = 2*u - (v + 3*w)\n",
        "print(x)\n",
        "\n",
        "x = 0.5 * (2*u - v - 3*w)\n",
        "print(x)"
      ]
    },
    {
      "cell_type": "markdown",
      "source": [
        "Bài 2: Tìm tổ hợp tuyến tính\n"
      ],
      "metadata": {
        "id": "OAjmdBJF_TsI"
      }
    },
    {
      "cell_type": "code",
      "source": [
        "from numpy import linalg\n",
        "A = np.matrix([[0, -1, 3], [1, 1, 1], [4, 2, 2]])\n",
        "B = np.array([-1, -2, -2])\n",
        "X = np.linalg.solve(A, B)\n",
        "print(X)"
      ],
      "metadata": {
        "colab": {
          "base_uri": "https://localhost:8080/"
        },
        "id": "jzxj1hFw_Ub6",
        "outputId": "7ee21fcf-3c6e-4533-d76f-a54be3d0a835"
      },
      "execution_count": 7,
      "outputs": [
        {
          "output_type": "stream",
          "name": "stdout",
          "text": [
            "[ 1. -2. -1.]\n"
          ]
        }
      ]
    },
    {
      "cell_type": "markdown",
      "source": [
        "Bài 3: Ma trận không khả nghịch"
      ],
      "metadata": {
        "id": "VlOC52e0_X6X"
      }
    },
    {
      "cell_type": "code",
      "source": [
        "A = np.matrix([[1,0],[0,0]])\n",
        "B = np.matrix([[0,0],[0,1]])\n",
        "from numpy import linalg as LA\n",
        "\n",
        "# inv\n",
        "try:\n",
        "    print(LA.inv(A))\n",
        "except Exception as e:\n",
        "    print(e)\n",
        "\n",
        "try:\n",
        "    print(LA.inv(B))\n",
        "except Exception as e:\n",
        "    print(e)\n",
        "\n",
        "print(LA.inv(A + B))  # Phải ra ma trận khả nghịch\n",
        "\n",
        "# det\n",
        "print(LA.det(A))      # = 0\n",
        "print(LA.det(B))      # = 0\n",
        "print(LA.det(A + B))  # = 1"
      ],
      "metadata": {
        "colab": {
          "base_uri": "https://localhost:8080/"
        },
        "id": "xOXMIF2h_ZN5",
        "outputId": "c39596ee-14fd-4ede-c76a-d8761e9b6f9e"
      },
      "execution_count": 6,
      "outputs": [
        {
          "output_type": "stream",
          "name": "stdout",
          "text": [
            "Singular matrix\n",
            "Singular matrix\n",
            "[[1. 0.]\n",
            " [0. 1.]]\n",
            "0.0\n",
            "0.0\n",
            "1.0\n"
          ]
        }
      ]
    },
    {
      "cell_type": "markdown",
      "source": [
        "Bài 4: Tập các ma trận đối xứng là không gian con"
      ],
      "metadata": {
        "id": "1osP6ysz_bfJ"
      }
    },
    {
      "cell_type": "code",
      "source": [
        "import sympy as sp\n",
        "x, y = sp.symbols('x y')\n",
        "A = sp.Matrix([[x, y], [y, x]])\n",
        "x1, y1 = sp.symbols('x1 y1')\n",
        "A1 = sp.Matrix([[x1, y1], [y1, x1]])\n",
        "x2, y2 = sp.symbols('x2 y2')\n",
        "A2 = sp.Matrix([[x2, y2], [y2, x2]])\n",
        "\n",
        "print(A1.T)  # Ma trận chuyển vị\n",
        "print((A1 + A2).T)\n",
        "print(((A1 + A2).T).equals(A1 + A2))  # True\n",
        "\n",
        "c = sp.symbols('c')\n",
        "print(c * A)\n",
        "print(((c * A).T).equals(c * A))  # True"
      ],
      "metadata": {
        "colab": {
          "base_uri": "https://localhost:8080/"
        },
        "id": "lv6Yfh_i_bMm",
        "outputId": "7bf9086c-c551-4329-9e08-d06f6f345235"
      },
      "execution_count": 5,
      "outputs": [
        {
          "output_type": "stream",
          "name": "stdout",
          "text": [
            "Matrix([[x1, y1], [y1, x1]])\n",
            "Matrix([[x1 + x2, y1 + y2], [y1 + y2, x1 + x2]])\n",
            "True\n",
            "Matrix([[c*x, c*y], [c*y, c*x]])\n",
            "True\n"
          ]
        }
      ]
    },
    {
      "cell_type": "markdown",
      "source": [
        "Bài 5: Tổ hợp tuyến tính"
      ],
      "metadata": {
        "id": "zbi69Yxa_edd"
      }
    },
    {
      "cell_type": "code",
      "source": [
        "A = np.array([[1, 0, -1], [2, 1, 0], [3, 2, 1]])\n",
        "b1 = np.array([1, 1, 1])  # Vector a\n",
        "b2 = np.array([1, -2, 2]) # Vector b\n",
        "\n",
        "# a có nghiệm\n",
        "print(np.linalg.lstsq(A.T, b1, rcond=None)[0])  # Tìm nghiệm x sao cho A·x = b1\n",
        "\n",
        "# b không có nghiệm chính xác\n",
        "try:\n",
        "    print(np.linalg.solve(A.T, b2))  # Nếu lỗi ⇒ không là tổ hợp tuyến tính\n",
        "except Exception as e:\n",
        "    print(e)"
      ],
      "metadata": {
        "colab": {
          "base_uri": "https://localhost:8080/"
        },
        "id": "ksDTmRyI_gn-",
        "outputId": "10bda917-ebf5-4325-f5d2-bffaa41ce90e"
      },
      "execution_count": 4,
      "outputs": [
        {
          "output_type": "stream",
          "name": "stdout",
          "text": [
            "[-5.00000000e-01  1.11022302e-16  5.00000000e-01]\n",
            "Singular matrix\n"
          ]
        }
      ]
    },
    {
      "cell_type": "markdown",
      "source": [
        "Bài 6: Độc lập tuyến tính"
      ],
      "metadata": {
        "id": "rKCQRahM_gHs"
      }
    },
    {
      "cell_type": "code",
      "source": [
        "import sympy as sp\n",
        "c1, c2, c3 = sp.symbols('c1 c2 c3')\n",
        "sol = sp.solve([c1 - 2*c3, 2*c1 + c2, 3*c1 + 2*c2 + c3], [c1, c2, c3])\n",
        "print(sol)"
      ],
      "metadata": {
        "colab": {
          "base_uri": "https://localhost:8080/"
        },
        "id": "CQ0R3xIf_jyc",
        "outputId": "6cd84cd2-e41e-43b0-ba65-e00ebe483c9e"
      },
      "execution_count": 3,
      "outputs": [
        {
          "output_type": "stream",
          "name": "stdout",
          "text": [
            "{c1: 0, c2: 0, c3: 0}\n"
          ]
        }
      ]
    },
    {
      "cell_type": "markdown",
      "source": [
        "Bài 7: Cơ sở không gian ℝ²"
      ],
      "metadata": {
        "id": "xn-Bt71B_lqw"
      }
    },
    {
      "cell_type": "code",
      "source": [
        "import sympy as sp\n",
        "c1, c2 = sp.symbols('c1 c2')\n",
        "u1, u2 = sp.symbols('u1 u2')\n",
        "# kiểm tra hệ có nghiệm với mọi (u1, u2)\n",
        "print(sp.solve([c1 + c2 - u1, c1 - c2 - u2], (c1, c2)))\n",
        "\n",
        "# kiểm tra hệ chỉ có nghiệm duy nhất (0,0)\n",
        "u1 = 0\n",
        "u2 = 0\n",
        "print(sp.solve([c1 + c2 - u1, c1 - c2 - u2], (c1, c2)))"
      ],
      "metadata": {
        "colab": {
          "base_uri": "https://localhost:8080/"
        },
        "id": "Kl5Win4R_mum",
        "outputId": "ef28ad4d-ff12-4fcc-f4bc-fe8e4d40530f"
      },
      "execution_count": 2,
      "outputs": [
        {
          "output_type": "stream",
          "name": "stdout",
          "text": [
            "{c1: u1/2 + u2/2, c2: u1/2 - u2/2}\n",
            "{c1: 0, c2: 0}\n"
          ]
        }
      ]
    },
    {
      "cell_type": "markdown",
      "source": [
        "2. Ánh xạ tuyến tính"
      ],
      "metadata": {
        "id": "KOG6iYd6_s7_"
      }
    },
    {
      "cell_type": "code",
      "source": [
        "import numpy as np\n",
        "import matplotlib.pyplot as plt\n",
        "\n",
        "# Dữ liệu hình chữ F gốc\n",
        "P = np.array([\n",
        "    [0, 0, 3, 3, 1, 1, 2, 2, 1, 1],   # x\n",
        "    [0, 5, 5, 4, 4, 3, 3, 2, 2, 0]    # y\n",
        "])\n",
        "\n",
        "def draw_points(P, title=\"\"):\n",
        "    plt.plot(P[0], P[1], 'o-', linewidth=2)\n",
        "    plt.axis('equal')\n",
        "    plt.title(title)\n",
        "    plt.grid(True)\n",
        "\n",
        "# a. Tịnh tiến (x + 4, y + 2)\n",
        "vecdelta_a = np.array([4, 2])\n",
        "P_a = (P.T + vecdelta_a).T\n",
        "\n",
        "# b. Tịnh tiến (4, -2) và co giãn (x giữ nguyên, y * 2)\n",
        "vecdelta_b = np.array([4, -2])\n",
        "mat_b = np.array([[1.0, 0.0], [0.0, 2.0]])\n",
        "P_b = (P.T @ mat_b + vecdelta_b).T\n",
        "\n",
        "# c. Tịnh tiến (4, 2) và đối xứng qua trục y (x -> -x)\n",
        "vecdelta_c = np.array([4, 2])\n",
        "mat_c = np.array([[-1.0, 0.0], [0.0, 1.0]])\n",
        "P_c = (P.T @ mat_c + vecdelta_c).T\n",
        "\n",
        "# d. Shearing: (x + L*y + dx, M*x + y + dy)\n",
        "L = 1.5\n",
        "M = 0\n",
        "vecdelta_d = np.array([2, -1])\n",
        "mat_d = np.array([[1.0, L], [M, 1.0]])\n",
        "P_d = (P.T @ mat_d + vecdelta_d).T\n",
        "\n",
        "# e. Đối xứng qua trục y (x -> -x, y giữ nguyên)\n",
        "mat_sym_y = np.array([[-1.0, 0.0], [0.0, 1.0]])\n",
        "P_sym_y = (P.T @ mat_sym_y).T\n",
        "\n",
        "# f. Đối xứng qua đường y = x\n",
        "mat_sym_diag = np.array([[0.0, 1.0], [1.0, 0.0]])\n",
        "P_sym_diag = (P.T @ mat_sym_diag).T\n",
        "\n",
        "# Vẽ tất cả kết quả\n",
        "plt.figure(figsize=(18, 12))\n",
        "\n",
        "plt.subplot(2, 3, 1)\n",
        "draw_points(P, \"Gốc\")\n",
        "\n",
        "plt.subplot(2, 3, 2)\n",
        "draw_points(P_a, \"a. Tịnh tiến (x+4, y+2)\")\n",
        "\n",
        "plt.subplot(2, 3, 3)\n",
        "draw_points(P_b, \"b. Tịnh tiến + co giãn (y * 2)\")\n",
        "\n",
        "plt.subplot(2, 3, 4)\n",
        "draw_points(P_c, \"c. Tịnh tiến + đối xứng trục y\")\n",
        "\n",
        "plt.subplot(2, 3, 5)\n",
        "draw_points(P_d, \"d. Tịnh tiến + shearing (L=1.5)\")\n",
        "\n",
        "plt.subplot(2, 3, 6)\n",
        "draw_points(P_sym_diag, \"f. Đối xứng qua y = x\")\n",
        "\n",
        "plt.tight_layout()\n",
        "plt.show()\n",
        "\n",
        "# In kết quả tọa độ các phép biến đổi (nếu cần)\n",
        "print(\"a. Tịnh tiến:\\n\", P_a)\n",
        "print(\"b. Co giãn:\\n\", P_b)\n",
        "print(\"c. Đối xứng y:\\n\", P_c)\n",
        "print(\"d. Shearing:\\n\", P_d)\n",
        "print(\"e. Đối xứng trục y:\\n\", P_sym_y)\n",
        "print(\"f. Đối xứng qua y = x:\\n\", P_sym_diag)"
      ],
      "metadata": {
        "colab": {
          "base_uri": "https://localhost:8080/",
          "height": 1000
        },
        "id": "YaQp5pGbAW8w",
        "outputId": "e15a7df9-bfab-4f80-ff30-6bd568583840"
      },
      "execution_count": 1,
      "outputs": [
        {
          "output_type": "display_data",
          "data": {
            "text/plain": [
              "<Figure size 1800x1200 with 6 Axes>"
            ],
            "image/png": "[encoded data removed]"
          },
          "metadata": {}
        },
        {
          "output_type": "stream",
          "name": "stdout",
          "text": [
            "a. Tịnh tiến:\n",
            " [[4 4 7 7 5 5 6 6 5 5]\n",
            " [2 7 7 6 6 5 5 4 4 2]]\n",
            "b. Co giãn:\n",
            " [[ 4.  4.  7.  7.  5.  5.  6.  6.  5.  5.]\n",
            " [-2.  8.  8.  6.  6.  4.  4.  2.  2. -2.]]\n",
            "c. Đối xứng y:\n",
            " [[4. 4. 1. 1. 3. 3. 2. 2. 3. 3.]\n",
            " [2. 7. 7. 6. 6. 5. 5. 4. 4. 2.]]\n",
            "d. Shearing:\n",
            " [[ 2.   2.   5.   5.   3.   3.   4.   4.   3.   3. ]\n",
            " [-1.   4.   8.5  7.5  4.5  3.5  5.   4.   2.5  0.5]]\n",
            "e. Đối xứng trục y:\n",
            " [[ 0.  0. -3. -3. -1. -1. -2. -2. -1. -1.]\n",
            " [ 0.  5.  5.  4.  4.  3.  3.  2.  2.  0.]]\n",
            "f. Đối xứng qua y = x:\n",
            " [[0. 5. 5. 4. 4. 3. 3. 2. 2. 0.]\n",
            " [0. 0. 3. 3. 1. 1. 2. 2. 1. 1.]]\n"
          ]
        }
      ]
    },
    {
      "cell_type": "markdown",
      "source": [
        "3. [Đọc thêm] Kiểm lý thuyết về ánh xạ tuyến tính\n"
      ],
      "metadata": {
        "id": "7lduagsMBQRg"
      }
    },
    {
      "cell_type": "markdown",
      "source": [
        " 3.1. Kiểm tra một ánh xạ là ánh xạ tuyến tính"
      ],
      "metadata": {
        "id": "BiZSKt5pBV9-"
      }
    },
    {
      "cell_type": "code",
      "source": [
        "import sympy as sp\n",
        "from sympy import lambdify\n",
        "\n",
        "x1, x2, x3 = sp.symbols('x1 x2 x3')\n",
        "a, b, c = sp.symbols('a b c')\n",
        "d, e, f = sp.symbols('d e f')\n",
        "q = sp.symbols('q')\n",
        "\n",
        "bieuthuc1 = x1 - x2 + x3\n",
        "f1 = lambdify([x1, x2, x3], bieuthuc1, 'sympy')\n",
        "\n",
        "f1_a = f1(a, b, c)              # = a - b + c\n",
        "f1_d = f1(d, e, f)              # = d - e + f\n",
        "f1_sum = f1(a + d, b + e, c + f)  # = a - b + c + d - e + f\n",
        "\n",
        "kiem_1 = (f1(a, b, c) + f1(d, e, f)).equals(f1_sum)      # ✅ True\n",
        "kiem_2 = (q*f1(a, b, c) + f1(d, e, f)).equals(f1(q*a + d, q*b + e, q*c + f).expand())  # ✅ True\n",
        "\n",
        "bieuthuc2 = 2*x1 + 3*x2\n",
        "f2 = lambdify([x1, x2, x3], bieuthuc2, 'sympy')\n",
        "kiem_3 = (q*f2(a,b,c) + f2(d,e,f)).equals(f2(q*a + d, q*b + e, q*c + f).expand())  # ✅ True"
      ],
      "metadata": {
        "id": "ME8GjvCiBSzp"
      },
      "execution_count": 14,
      "outputs": []
    },
    {
      "cell_type": "markdown",
      "source": [],
      "metadata": {
        "id": "ljS1EmCrBXn9"
      }
    },
    {
      "cell_type": "markdown",
      "source": [
        "3.2. Tìm tổ hợp tuyến tính cho ánh xạ tuyến tính"
      ],
      "metadata": {
        "id": "prMNkXovBbDr"
      }
    },
    {
      "cell_type": "code",
      "source": [
        "a1, b1 = sp.symbols('a1 b1')\n",
        "sol_linear_comb = sp.solve([a1 + 3*b1 - 4, 2*a1 + 5*b1 - 5], [a1, b1])\n",
        "# => {a1: -5, b1: 3}\n",
        "\n",
        "fu1 = sp.Matrix([1, 1, 2])\n",
        "fu2 = sp.Matrix([4, 2, 1])\n",
        "a1_val = -5\n",
        "b1_val = 3\n",
        "f_result = a1_val*fu1 + b1_val*fu2\n",
        "# => Matrix([[7], [1], [-7]])"
      ],
      "metadata": {
        "id": "ga88C_MUBceg"
      },
      "execution_count": 13,
      "outputs": []
    },
    {
      "cell_type": "markdown",
      "source": [
        " 3.3. Tìm ánh xạ tuyến tính f(x,y)"
      ],
      "metadata": {
        "id": "yVE7lnmCBgam"
      }
    },
    {
      "cell_type": "code",
      "source": [
        "x, y = sp.symbols('x y')\n",
        "a, b = sp.symbols('a b')\n",
        "sol_map = sp.solve([a + 3*b - x, 2*a + 5*b - y], [a, b])\n",
        "# => {a: -5x + 3y, b: 2x - y}\n",
        "\n",
        "fu1 = sp.Matrix([1, 1, 2])\n",
        "fu2 = sp.Matrix([4, 2, 1])\n",
        "fu_expr = (-5*x + 3*y)*fu1 + (2*x - y)*fu2\n",
        "# => Matrix([[3*x - y], [-x + y], [-8*x + 5*y]])"
      ],
      "metadata": {
        "id": "NOPkloK9Bgwm"
      },
      "execution_count": 15,
      "outputs": []
    },
    {
      "cell_type": "markdown",
      "source": [
        "3.4. Tìm nhân của ánh xạ tuyến tính"
      ],
      "metadata": {
        "id": "Q2mncwSFBk9i"
      }
    },
    {
      "cell_type": "code",
      "source": [
        "# f(x1,x2,x3) = (x1+x2−x3; 2x1+3x2−x3; 3x1+5x2−x3)\n",
        "\n",
        "x1, x2, x3 = sp.symbols('x1 x2 x3')\n",
        "ker_sol = sp.solve([x1 + x2 - x3, 2*x1 + 3*x2 - x3, 3*x1 + 5*x2 - x3], [x1, x2, x3])\n",
        "# => {x1: 2*x3, x2: -x3}"
      ],
      "metadata": {
        "id": "5lr545qpBmEq"
      },
      "execution_count": 11,
      "outputs": []
    },
    {
      "cell_type": "markdown",
      "source": [
        "3.6. Ma trận của ánh xạ tuyến tính trong cặp cơ sở"
      ],
      "metadata": {
        "id": "nes2Z7pFBtmi"
      }
    },
    {
      "cell_type": "code",
      "source": [
        "v1_image = sp.Matrix([-2, -1])\n",
        "v2_image = sp.Matrix([1, 1])\n",
        "s1, t1 = sp.symbols('s1 t1')\n",
        "sol_1 = sp.solve([s1 + t1 + 2, 2*s1 + 3*t1 + 1], [s1, t1])  # => {-5, 3}\n",
        "col1 = sp.Matrix([-5, 3])\n",
        "\n",
        "s2, t2 = sp.symbols('s2 t2')\n",
        "sol_2 = sp.solve([s2 + t2 - 1, 2*s2 + 3*t2 - 1], [s2, t2])  # => {2, -1}\n",
        "col2 = sp.Matrix([2, -1])\n",
        "matrix_A = sp.Matrix.hstack(col1, col2)"
      ],
      "metadata": {
        "id": "VHxF6qKYBwPP"
      },
      "execution_count": 10,
      "outputs": []
    },
    {
      "cell_type": "markdown",
      "source": [
        "BÀI TẬP CHƯƠNG 8"
      ],
      "metadata": {
        "id": "3EXLyRBdCfi-"
      }
    },
    {
      "cell_type": "code",
      "source": [
        "#  Câu 1: Kiểm tra ánh xạ tuyến tính\n",
        "import sympy as sp\n",
        "\n",
        "# Khai báo biến\n",
        "x, y, z = sp.symbols('x y z')\n",
        "a, b, c = sp.symbols('a b c')\n",
        "k = sp.symbols('k')  # hệ số vô hướng\n",
        "\n",
        "# Định nghĩa ánh xạ\n",
        "T = lambda u, v, w: sp.Matrix([u + v, w + 2, 0])\n",
        "\n",
        "# Kiểm tra tính cộng\n",
        "v1 = T(x, y, z)\n",
        "v2 = T(a, b, c)\n",
        "add_check = T(x + a, y + b, z + c) == v1 + v2\n",
        "print(\"T(x+y) = T(x) + T(y)?\", add_check)\n",
        "\n",
        "# Kiểm tra tính nhân vô hướng\n",
        "scalar_check = T(k * x, k * y, k * z) == k * T(x, y, z)\n",
        "print(\"T(kx) = kT(x)?\", scalar_check)\n",
        "\n",
        "# Câu 2: Biến đổi x thành y và y thành x - y\n",
        "# python\n",
        "# Sao chép\n",
        "# Chỉnh sửa\n",
        "\n",
        "import numpy as np\n",
        "\n",
        "# Tập điểm chữ F (ví dụ bạn có thể thay thế bằng tập khác)\n",
        "F = np.array([[0,0,3,3,1,1,2,2,1,1],\n",
        "              [0,5,5,4,4,3,3,2,2,0]])\n",
        "\n",
        "# Ma trận biến đổi: x → y, y → x - y\n",
        "A = np.array([[0, 1],\n",
        "              [1, -1]])\n",
        "\n",
        "# Biến đổi\n",
        "F_transformed = (F.T @ A).T\n",
        "print(\"Biến đổi F:\\n\", F_transformed)\n",
        "\n",
        "# Câu 3: Chứng minh ánh xạ là tuyến tính\n",
        "\n",
        "# Biến hình thức\n",
        "x1, x2 = sp.symbols('x1 x2')\n",
        "a, b = sp.symbols('a b')\n",
        "c, d = sp.symbols('c d')\n",
        "q = sp.symbols('q')\n",
        "\n",
        "# Định nghĩa ánh xạ\n",
        "f1 = x1 - x2\n",
        "f2 = x1 + 2*x2\n",
        "\n",
        "# Kiểm tra tuyến tính\n",
        "v1 = (f1.subs({x1: a, x2: b}), f2.subs({x1: a, x2: b}))\n",
        "v2 = (f1.subs({x1: c, x2: d}), f2.subs({x1: c, x2: d}))\n",
        "v_sum = (f1.subs({x1: a+c, x2: b+d}), f2.subs({x1: a+c, x2: b+d}))\n",
        "print(\"Cộng đúng?\", v_sum == (v1[0]+v2[0], v1[1]+v2[1]))\n",
        "\n",
        "# Nhân vô hướng\n",
        "v_scalar = (f1.subs({x1: q*a, x2: q*b}), f2.subs({x1: q*a, x2: q*b}))\n",
        "expected = (q*v1[0], q*v1[1])\n",
        "print(\"Nhân vô hướng đúng?\", v_scalar == expected)\n",
        "\n",
        "# Câu 4: Dạng toàn phương (quadratic form)\n",
        "\n",
        "from sympy import Matrix, symbols, Eq, solve\n",
        "import numpy as np\n",
        "from scipy.linalg import eig\n",
        "\n",
        "# Ma trận A\n",
        "A = np.array([[13, -5],\n",
        "              [-5, 13]])\n",
        "\n",
        "# Giá trị riêng và vector riêng\n",
        "eigenvalues, eigenvectors = eig(A)\n",
        "print(\"Eigenvalues:\", eigenvalues)\n",
        "print(\"Eigenvectors (cột):\\n\", eigenvectors)\n",
        "\n",
        "# Góc xoay là arccos(dot([1,0], v)) nếu cần\n"
      ],
      "metadata": {
        "colab": {
          "base_uri": "https://localhost:8080/"
        },
        "id": "c2QloCuKCijw",
        "outputId": "db9d02d3-8b6e-4182-9a74-2b08917903fb"
      },
      "execution_count": 9,
      "outputs": [
        {
          "output_type": "stream",
          "name": "stdout",
          "text": [
            "T(x+y) = T(x) + T(y)? False\n",
            "T(kx) = kT(x)? False\n",
            "Biến đổi F:\n",
            " [[ 0  5  5  4  4  3  3  2  2  0]\n",
            " [ 0 -5 -2 -1 -3 -2 -1  0 -1  1]]\n",
            "Cộng đúng? True\n",
            "Nhân vô hướng đúng? False\n",
            "Eigenvalues: [18.+0.j  8.+0.j]\n",
            "Eigenvectors (cột):\n",
            " [[ 0.70710678  0.70710678]\n",
            " [-0.70710678  0.70710678]]\n"
          ]
        }
      ]
    },
    {
      "cell_type": "markdown",
      "source": [
        "4. Bài toán ứng dụng: Đường conic và các phép biến đổi"
      ],
      "metadata": {
        "id": "jaGA_a0xDhyJ"
      }
    },
    {
      "cell_type": "code",
      "source": [
        "import numpy as np\n",
        "import sympy as sp\n",
        "from sympy import sin, cos, simplify, Matrix, sqrt, symbols, expand\n",
        "\n",
        "# Bước 1: Khai báo biến\n",
        "x, y = sp.symbols('x y')\n",
        "xs, ys = sp.symbols(\"xs ys\")  # biến trong hệ mới sau xoay\n",
        "\n",
        "# Bước 2: Góc xoay theta (xoay sao cho bỏ xy): tan(2θ) = B / (A - C)\n",
        "A, B, C = 5, -6, 5\n",
        "theta = sp.Rational(1, 2) * sp.atan2(B, A - C)\n",
        "print(\"Góc xoay (radian):\", theta)\n",
        "\n",
        "# Tính cosθ, sinθ\n",
        "cos_theta = sp.cos(theta)\n",
        "sin_theta = sp.sin(theta)\n",
        "\n",
        "# Bước 3: Biến đổi x, y sang tọa độ mới (xs, ys)\n",
        "x_rot = cos_theta * xs - sin_theta * ys\n",
        "y_rot = sin_theta * xs + cos_theta * ys\n",
        "\n",
        "# Bước 4: Phương trình conic ban đầu\n",
        "expr = A*x**2 + B*x*y + C*y**2 + 14*sp.sqrt(2)*x - 2*sp.sqrt(2)*y + 18\n",
        "\n",
        "# Thay x, y bằng biến đổi mới:\n",
        "expr_rot = expr.subs({x: x_rot, y: y_rot})\n",
        "expr_rot = sp.expand(expr_rot)\n",
        "\n",
        "print(\"Phương trình sau khi xoay:\\n\", simplify(expr_rot))"
      ],
      "metadata": {
        "colab": {
          "base_uri": "https://localhost:8080/"
        },
        "id": "O-KK-f9zDnUW",
        "outputId": "ae36756c-3123-405d-9b1e-714308db27fe"
      },
      "execution_count": 16,
      "outputs": [
        {
          "output_type": "stream",
          "name": "stdout",
          "text": [
            "Góc xoay (radian): -pi/4\n",
            "Phương trình sau khi xoay:\n",
            " 8*xs**2 + 16*xs + 2*ys**2 + 12*ys + 18\n"
          ]
        }
      ]
    }
  ]
}