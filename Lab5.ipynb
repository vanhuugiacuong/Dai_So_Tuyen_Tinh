{
  "nbformat": 4,
  "nbformat_minor": 0,
  "metadata": {
    "colab": {
      "provenance": [],
      "authorship_tag": "ABX9TyNbKKLphPm4FBDWpb+Vgnkb",
      "include_colab_link": true
    },
    "kernelspec": {
      "name": "python3",
      "display_name": "Python 3"
    },
    "language_info": {
      "name": "python"
    }
  },
  "cells": [
    {
      "cell_type": "markdown",
      "metadata": {
        "id": "view-in-github",
        "colab_type": "text"
      },
      "source": [
        "<a href=\"https://colab.research.google.com/github/vanhuugiacuong/Dai_So_Tuyen_Tinh/blob/master/Lab5.ipynb\" target=\"_parent\"><img src=\"https://colab.research.google.com/assets/colab-badge.svg\" alt=\"Open In Colab\"/></a>"
      ]
    },
    {
      "cell_type": "markdown",
      "source": [
        "1. Sử dụng array và matrix trong numpy\n",
        "Dưới đây là tóm gọn một số lưu ý khi sử dụng kiểu matrix và array trong gói NumPy:\n",
        "1.1. Thông tin tóm gọn"
      ],
      "metadata": {
        "id": "tXlJ8U3jyS8W"
      }
    },
    {
      "cell_type": "code",
      "execution_count": null,
      "metadata": {
        "id": "dEaAlehoyMFH"
      },
      "outputs": [],
      "source": [
        "import numpy as np\n",
        "\n",
        "D = np.array([[1, 2], [3, 4]])\n",
        "\n",
        "# Trường hợp lỗi do E chưa được khởi tạo\n",
        "# np.copyto(E, D)  # Gây lỗi: NameError hoặc UnboundLocalError\n",
        "\n",
        "# Đúng cách: khởi tạo E trước\n",
        "E = np.array([[1, 2], [3, 5]])\n",
        "np.copyto(E, D)\n",
        "print(E)\n",
        "# Kết quả: [[1 2]\n",
        "#           [3 4]]"
      ]
    },
    {
      "cell_type": "markdown",
      "source": [
        "1.2. Nên và không nên sử dụng kiểu dữ liệu numpy.matrix"
      ],
      "metadata": {
        "id": "ThwGSBgCyy_f"
      }
    },
    {
      "cell_type": "code",
      "source": [
        "import numpy as np\n",
        "\n",
        "x = np.array([['a', 'b'], ['c', 'd']])\n",
        "y = 'x'\n",
        "C = np.matrix([[x, y], [1, 2]])\n",
        "print(C)\n",
        "# Kết quả:\n",
        "# [[[['a' 'b']\n",
        "#    ['c' 'd']] 'x']\n",
        "#  [1 2]]\n",
        "import numpy as np\n",
        "\n",
        "# Sẽ gây lỗi:\n",
        "# A = np.matrix([[[1, 2], [3, 4]], [[5, 6], [7, 8]]])\n",
        "# → ValueError: shape too large to be a matrix\n",
        "\n",
        "# Dùng array thay thế\n",
        "A = np.array([[[1, 2], [3, 4]], [[5, 6], [7, 8]]])\n",
        "print(A)\n",
        "# Kết quả:\n",
        "# [[[1 2]\n",
        "#   [3 4]]\n",
        "#  [[5 6]\n",
        "#   [7 8]]]"
      ],
      "metadata": {
        "id": "NstiuKABy2c9"
      },
      "execution_count": null,
      "outputs": []
    },
    {
      "cell_type": "markdown",
      "source": [
        "1.3. Đối tượng matrix từ các hàm trong gói numpy.matlib"
      ],
      "metadata": {
        "id": "hCIPMzpHy4Qp"
      }
    },
    {
      "cell_type": "code",
      "source": [
        "from numpy import matlib\n",
        "\n",
        "# Ma trận đơn vị\n",
        "G = matlib.identity(5)\n",
        "print(G)\n",
        "# [[1. 0. 0. 0. 0.]\n",
        "#  [0. 1. 0. 0. 0.]\n",
        "#  [0. 0. 1. 0. 0.]\n",
        "#  [0. 0. 0. 1. 0.]\n",
        "#  [0. 0. 0. 0. 1.]]\n",
        "\n",
        "# Ma trận ngẫu nhiên chuẩn (Gaussian)\n",
        "H = matlib.randn(3, 2)\n",
        "print(H)\n",
        "# Ví dụ kết quả (ngẫu nhiên):\n",
        "# [[ 0.38 -1.25]\n",
        "#  [ 1.03  0.11]\n",
        "#  [-0.67  0.92]]\n",
        "\n",
        "# Ma trận toàn số 0\n",
        "K = matlib.zeros([4, 4])\n",
        "print(K)\n",
        "# [[0. 0. 0. 0.]\n",
        "#  [0. 0. 0. 0.]\n",
        "#  [0. 0. 0. 0.]\n",
        "#  [0. 0. 0. 0.]]"
      ],
      "metadata": {
        "id": "7kmB9noJy7E4"
      },
      "execution_count": null,
      "outputs": []
    },
    {
      "cell_type": "markdown",
      "source": [
        "2. Ứng dụng 2 –Liên phân số và số \u0001\n",
        "2.1. Liên phân số\n"
      ],
      "metadata": {
        "id": "dE61YaSvzKWK"
      }
    },
    {
      "cell_type": "code",
      "source": [
        "import numpy as np\n",
        "\n",
        "# Dãy liên phân số biểu diễn số π (có thể thêm phần tử để tăng độ chính xác)\n",
        "c = [3, 7, 15, 1, 292, 1, 1, 1, 2, 1, 3, 1, 14, 2]\n",
        "\n",
        "# Khởi tạo ma trận M ban đầu\n",
        "for i in range(len(c)):\n",
        "    ci = np.asmatrix([[c[i], 1], [1, 0]])\n",
        "    if i == 0:\n",
        "        M = ci\n",
        "    else:\n",
        "        M = M.dot(ci)\n",
        "\n",
        "# Kết quả gần đúng số π\n",
        "print(\"Ma trận M:\")\n",
        "print(M)\n",
        "print(\"\\nSố Pi gần đúng:\")\n",
        "print(M[0, 0] / M[1, 0])"
      ],
      "metadata": {
        "colab": {
          "base_uri": "https://localhost:8080/"
        },
        "id": "aPNdYxDQzLbG",
        "outputId": "dfb2b3ba-d6af-4221-fa00-d5e3d8ad9b92"
      },
      "execution_count": 2,
      "outputs": [
        {
          "output_type": "stream",
          "name": "stdout",
          "text": [
            "Ma trận M:\n",
            "[[165707065  80143857]\n",
            " [ 52746197  25510582]]\n",
            "\n",
            "Số Pi gần đúng:\n",
            "3.1415926535897936\n"
          ]
        }
      ]
    },
    {
      "cell_type": "markdown",
      "source": [
        "3. Về phân tích hồi quy tuyến tính\n",
        "[Mục này cung cấp thêm kiến thức cho sinh viên về dạng phương trình skiny, hệ phương trình có\n",
        "số phương trình nhiều hơn số ẩn]"
      ],
      "metadata": {
        "id": "Hq6qnvgCz6rQ"
      }
    },
    {
      "cell_type": "code",
      "source": [
        "import numpy as np\n",
        "\n",
        "# Dữ liệu đầu vào\n",
        "# X: ma trận (n, 2) gồm cột 1 là hằng số 1, cột 2 là ngày đo\n",
        "X = np.array([\n",
        "    [1, 1],\n",
        "    [1, 2],\n",
        "    [1, 3],\n",
        "    [1, 4],\n",
        "    [1, 5]\n",
        "])\n",
        "\n",
        "# Y: chiều cao đo được từng ngày\n",
        "Y = np.array([1, 2, 4, 4, 6])\n",
        "\n",
        "# Bước 1: Tính X.T (ma trận chuyển vị)\n",
        "XT = X.T\n",
        "\n",
        "# Bước 2: Tính A1 = (X^T X)^-1\n",
        "A1 = np.linalg.inv(XT.dot(X))\n",
        "\n",
        "# Bước 3: Tính A2 = X^T Y\n",
        "A2 = XT.dot(Y)\n",
        "\n",
        "# Bước 4: Tính nghiệm A = [a0, a1] với Y = a0 + a1 * x\n",
        "A = A1.dot(A2)\n",
        "\n",
        "print(\"Hệ số hồi quy:\", A)\n",
        "print(f\"Phương trình gần đúng: y = {A[0]:.4f} + {A[1]:.4f} * x\")\n",
        "\n",
        "# Bước 5: Tính các giá trị y dự đoán và sai số bình phương\n",
        "Y_pred = X.dot(A)\n",
        "errors = Y - Y_pred\n",
        "squared_errors = errors ** 2\n",
        "total_error = np.sum(squared_errors)\n",
        "\n",
        "print(\"Sai số từng điểm:\", squared_errors)\n",
        "print(\"Tổng sai số bình phương:\", total_error)\n"
      ],
      "metadata": {
        "colab": {
          "base_uri": "https://localhost:8080/"
        },
        "id": "XZm83iaJz65x",
        "outputId": "8f911c11-6a14-4cc4-85b4-432fc0893dc5"
      },
      "execution_count": 3,
      "outputs": [
        {
          "output_type": "stream",
          "name": "stdout",
          "text": [
            "Hệ số hồi quy: [-0.2  1.2]\n",
            "Phương trình gần đúng: y = -0.2000 + 1.2000 * x\n",
            "Sai số từng điểm: [1.77986742e-29 4.00000000e-02 3.60000000e-01 3.60000000e-01\n",
            " 4.00000000e-02]\n",
            "Tổng sai số bình phương: 0.8000000000000003\n"
          ]
        }
      ]
    },
    {
      "cell_type": "markdown",
      "source": [
        "BÀI TẬP CHƯƠNG 5\n"
      ],
      "metadata": {
        "id": "WCGtNjL20M8z"
      }
    },
    {
      "cell_type": "code",
      "source": [
        "import numpy as np\n",
        "dulieu = [10.0, 8, 7, 5, 2]\n",
        "def bpcuctieu(a):  # a là danh sách giá trị y (lượng thuốc)\n",
        "    b = []     # chứa giá trị x (thời gian)\n",
        "    o1 = []    # chứa toàn số 1 để tạo ma trận X với 2 cột [1, x]\n",
        "    for i in range(len(a)):\n",
        "        o1.append(1.0)\n",
        "        b.append(float(i))  # thời gian tính từ 0, 1, 2,...\n",
        "\n",
        "    # X là ma trận 2xN (sẽ transpose sau)\n",
        "    x = np.array([o1, b])            # x.shape = (2, n)\n",
        "    u = np.dot(x, x.T)               # tính X·X^T\n",
        "    y = np.array(a)                  # y: vector lượng thuốc\n",
        "    u_inv = np.linalg.inv(u)        # (X·X^T)^-1\n",
        "    v = np.dot(u_inv, x)            # v = (X·X^T)^-1 · X\n",
        "    A = np.dot(v, y)                # A = v · Y\n",
        "    return A  # A[0]: hệ số tự do, A[1]: hệ số của x\n",
        "\n",
        "\n",
        "A = bpcuctieu(dulieu)\n",
        "print(f\"Phương trình tuyến tính: y = {A[0]:.2f} + {A[1]:.2f} * x\")\n"
      ],
      "metadata": {
        "colab": {
          "base_uri": "https://localhost:8080/"
        },
        "id": "DlwxuaOp0MhE",
        "outputId": "d283e7df-8f96-4387-a657-82803fa1e7f5"
      },
      "execution_count": 4,
      "outputs": [
        {
          "output_type": "stream",
          "name": "stdout",
          "text": [
            "Phương trình tuyến tính: y = 10.20 + -1.90 * x\n"
          ]
        }
      ]
    }
  ]
}