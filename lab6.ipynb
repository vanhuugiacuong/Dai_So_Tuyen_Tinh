{
  "nbformat": 4,
  "nbformat_minor": 0,
  "metadata": {
    "colab": {
      "provenance": [],
      "toc_visible": true,
      "authorship_tag": "ABX9TyNkOw7dP5cGFsJCfak6bXoi",
      "include_colab_link": true
    },
    "kernelspec": {
      "name": "python3",
      "display_name": "Python 3"
    },
    "language_info": {
      "name": "python"
    }
  },
  "cells": [
    {
      "cell_type": "markdown",
      "metadata": {
        "id": "view-in-github",
        "colab_type": "text"
      },
      "source": [
        "<a href=\"https://colab.research.google.com/github/vanhuugiacuong/Dai_So_Tuyen_Tinh/blob/master/lab6.ipynb\" target=\"_parent\"><img src=\"https://colab.research.google.com/assets/colab-badge.svg\" alt=\"Open In Colab\"/></a>"
      ]
    },
    {
      "cell_type": "markdown",
      "source": [
        "1.2. Tích vô hướng và ứng dụng"
      ],
      "metadata": {
        "id": "i9Monr5j7MPr"
      }
    },
    {
      "cell_type": "code",
      "execution_count": 1,
      "metadata": {
        "colab": {
          "base_uri": "https://localhost:8080/"
        },
        "id": "4AC2RomL7G_b",
        "outputId": "1a6813e4-ce6d-4cb5-b2dd-f39c132055aa"
      },
      "outputs": [
        {
          "output_type": "stream",
          "name": "stdout",
          "text": [
            "32\n"
          ]
        }
      ],
      "source": [
        "import numpy as np\n",
        "a = np.array([1,2,3])\n",
        "b = np.array([4,5,6])\n",
        "print(np.inner(a,b))  # hoặc np.dot(a,b)"
      ]
    },
    {
      "cell_type": "markdown",
      "source": [
        "✅ Chuẩn (Norm): Độ dài vector\n",
        "Chuẩn bậc 2:\n",
        "‖u‖ = √<u, u>\n",
        "\n",
        "Chuẩn bậc 1:\n",
        "‖u‖₁ = ∑|uᵢ|\n",
        "\n",
        "Tổng quát:\n",
        "‖u‖ₚ = (∑|uᵢ|ᵖ)¹/ᵖ\n",
        "\n",
        "Ví dụ:"
      ],
      "metadata": {
        "id": "Wv94-pcD7oV2"
      }
    },
    {
      "cell_type": "markdown",
      "source": [
        " 2. Tổ hợp tuyến tính (Linear Combination)\n",
        ""
      ],
      "metadata": {
        "id": "MJ6gGjzY7LId"
      }
    },
    {
      "cell_type": "code",
      "source": [
        "import numpy as np\n",
        "\n",
        "# Tổng khối lượng\n",
        "m = 10\n",
        "\n",
        "# Các vector vị trí\n",
        "v1 = np.array([5, -4, 3])\n",
        "v2 = np.array([4, 3, -2])\n",
        "v3 = np.array([-4, -3, -1])\n",
        "v4 = np.array([-9, 8, 6])\n",
        "\n",
        "# Mảng vector xếp thành ma trận\n",
        "M = np.array([v1, v2, v3, v4])     # (4,3)\n",
        "MT = M.transpose()                # (3,4) để nhân với trọng lượng (4,)\n",
        "\n",
        "# Vector trọng lượng từng phụ tùng\n",
        "mi = np.array([2, 5, 2, 1])\n",
        "\n",
        "# Tính trọng tâm\n",
        "v = (1.0 / m) * MT.dot(mi)\n",
        "\n",
        "print(\"MT (transpose):\")\n",
        "print(MT)\n",
        "\n",
        "print(\"Trọng tâm của hệ là:\")\n",
        "print(v)"
      ],
      "metadata": {
        "colab": {
          "base_uri": "https://localhost:8080/"
        },
        "id": "LTIntVEQ7_9p",
        "outputId": "5d62c633-b816-40cc-81d7-732fb5bf143c"
      },
      "execution_count": 2,
      "outputs": [
        {
          "output_type": "stream",
          "name": "stdout",
          "text": [
            "MT (transpose):\n",
            "[[ 5  4 -4 -9]\n",
            " [-4  3 -3  8]\n",
            " [ 3 -2 -1  6]]\n",
            "Trọng tâm của hệ là:\n",
            "[1.3 0.9 0. ]\n"
          ]
        }
      ]
    },
    {
      "cell_type": "markdown",
      "source": [
        "3.1. Bài toán dẫn nhập: Mô hình Markov"
      ],
      "metadata": {
        "id": "P1notAY88STg"
      }
    },
    {
      "cell_type": "code",
      "source": [
        "import numpy as np\n",
        "\n",
        "# Ma trận chuyển trạng thái\n",
        "A = np.array([[0.998, 0.136],\n",
        "              [0.002, 0.864]])\n",
        "\n",
        "# Trạng thái ban đầu\n",
        "v0 = np.array([0.95, 0.05])\n",
        "\n",
        "# Tính A^100\n",
        "A_100 = np.linalg.matrix_power(A, 100)\n",
        "\n",
        "# Trạng thái sau 100 tuần\n",
        "v100 = A_100 @ v0\n",
        "\n",
        "print(\"A^100:\")\n",
        "print(A_100)\n",
        "\n",
        "print(\"Trạng thái sau 100 tuần:\")\n",
        "print(v100)"
      ],
      "metadata": {
        "colab": {
          "base_uri": "https://localhost:8080/"
        },
        "id": "hCPRBXYs8T-x",
        "outputId": "4f5d8b3f-bfc4-4af5-e70b-c1b141afd1ba"
      },
      "execution_count": 3,
      "outputs": [
        {
          "output_type": "stream",
          "name": "stdout",
          "text": [
            "A^100:\n",
            "[[0.98550725 0.9855069 ]\n",
            " [0.01449275 0.0144931 ]]\n",
            "Trạng thái sau 100 tuần:\n",
            "[0.98550723 0.01449277]\n"
          ]
        }
      ]
    },
    {
      "cell_type": "markdown",
      "source": [
        "3.2.Trị riêng và vector riêng của ma trận"
      ],
      "metadata": {
        "id": "_FjxzFDr8wN7"
      }
    },
    {
      "cell_type": "code",
      "source": [
        "import numpy as np\n",
        "\n",
        "A = np.array([[1, 6],\n",
        "              [5, 2]])\n",
        "u = np.array([6, -5])\n",
        "\n",
        "Au = A @ u\n",
        "right_side = -4 * u\n",
        "\n",
        "print(\"A·u =\", Au)\n",
        "print(\"-4·u =\", right_side)\n",
        "print(\"Equal?\", np.allclose(Au, right_side))\n",
        "\n",
        "\n",
        "# 3. Tìm trị riêng bằng SymPy\n",
        "import sympy\n",
        "x, y, Lambda = sympy.symbols('x y Lambda')\n",
        "I = sympy.eye(2)\n",
        "\n",
        "A = sympy.Matrix([[2, 3], [3, -6]])\n",
        "char_poly = sympy.det(Lambda * I - A)\n",
        "\n",
        "# Giải trị riêng\n",
        "eigenvalues = sympy.solve(sympy.Eq(char_poly, 0), Lambda)\n",
        "print(\"Trị riêng (gốc):\", eigenvalues)\n",
        "print(\"Trị riêng (gần đúng):\", [sympy.N(val, 4) for val in eigenvalues])"
      ],
      "metadata": {
        "colab": {
          "base_uri": "https://localhost:8080/"
        },
        "id": "smkwztYq8w30",
        "outputId": "0564135f-66e2-49d8-d003-73b29273e927"
      },
      "execution_count": 4,
      "outputs": [
        {
          "output_type": "stream",
          "name": "stdout",
          "text": [
            "A·u = [-24  20]\n",
            "-4·u = [-24  20]\n",
            "Equal? True\n"
          ]
        }
      ]
    },
    {
      "cell_type": "markdown",
      "source": [
        "3.3.Ứng dụng của trị riêng và vector riêng"
      ],
      "metadata": {
        "id": "GXeuF_NF9GGz"
      }
    },
    {
      "cell_type": "code",
      "source": [
        "# Bước 1: Tạo ma trận và trị riêng\n",
        "import numpy as np\n",
        "from numpy.linalg import inv\n",
        "\n",
        "# Ma trận A\n",
        "A = np.array([[2, 3],\n",
        "              [3, -6]])\n",
        "\n",
        "# Ma trận D (trị riêng trên đường chéo)\n",
        "D = np.array([[-7, 0],\n",
        "              [0, 3]])\n",
        "\n",
        "# Ma trận P (vector riêng xếp thành cột)\n",
        "P = np.array([[-1/3, 3],\n",
        "              [1,    1]])\n",
        "\n",
        "# Tính nghịch đảo của P\n",
        "P_inv = inv(P)\n",
        "print(\"P^(-1) =\")\n",
        "print(P_inv)\n",
        "\n",
        "# Bước 2: Kiểm tra chéo hóa\n",
        "# 𝐴\n",
        "# =\n",
        "# 𝑃\n",
        "# 𝐷\n",
        "# 𝑃\n",
        "# −\n",
        "# 1\n",
        "# A=PDP\n",
        "# −1\n",
        "# Kiểm tra A·P = P·D\n",
        "print(\"A·P =\")\n",
        "print(A @ P)\n",
        "\n",
        "print(\"P·D =\")\n",
        "print(P @ D)\n",
        "\n",
        "# Bước 3: Tính\n",
        "# 𝐴\n",
        "# 1000\n",
        "# A\n",
        "# 1000\n",
        "#   bằng chéo hóa\n",
        "\n",
        "# Tính D^1000 dễ vì D là đường chéo\n",
        "D_1000 = np.linalg.matrix_power(D, 1000)\n",
        "\n",
        "# Tính A^1000 bằng công thức A^k = P·D^k·P⁻¹\n",
        "A_1000 = P @ D_1000 @ P_inv\n",
        "\n",
        "print(\"A^1000 =\")\n",
        "print(A_1000)\n",
        "\n",
        "print(\"D^2 =\")\n",
        "print(np.linalg.matrix_power(D, 2))"
      ],
      "metadata": {
        "colab": {
          "base_uri": "https://localhost:8080/"
        },
        "id": "J-ok3Y-Y9GZU",
        "outputId": "be5920f2-23d2-4f8c-f5b0-875d4b2a16af"
      },
      "execution_count": 5,
      "outputs": [
        {
          "output_type": "stream",
          "name": "stdout",
          "text": [
            "P^(-1) =\n",
            "[[-0.3  0.9]\n",
            " [ 0.3  0.1]]\n",
            "A·P =\n",
            "[[ 2.33333333  9.        ]\n",
            " [-7.          3.        ]]\n",
            "P·D =\n",
            "[[ 2.33333333  9.        ]\n",
            " [-7.          3.        ]]\n",
            "A^1000 =\n",
            "[[ 5.03503397e+18  3.50482117e+18]\n",
            " [ 3.50482117e+18 -4.31115581e+18]]\n",
            "D^2 =\n",
            "[[49  0]\n",
            " [ 0  9]]\n"
          ]
        }
      ]
    },
    {
      "cell_type": "markdown",
      "source": [
        "✅ Câu 1: Trắc nghiệm\n",
        "Câu hỏi: Lệnh nào tính chuẩn 2 (norm 2) của vector a = np.array([1,2,3])?\n",
        "\n",
        "Nhắc lại, chuẩn 2 được định nghĩa là:\n",
        "\n",
        "∥\n",
        "𝑎\n",
        "∥\n",
        "=\n",
        "𝑎\n",
        "1\n",
        "2\n",
        "+\n",
        "𝑎\n",
        "2\n",
        "2\n",
        "+\n",
        "𝑎\n",
        "3\n",
        "2\n",
        "=\n",
        "𝑎\n",
        "⋅\n",
        "𝑎\n",
        "=\n",
        "inner\n",
        "(\n",
        "𝑎\n",
        ",\n",
        "𝑎\n",
        ")\n",
        "∥a∥=\n",
        "a\n",
        "1\n",
        "2\n",
        "​\n",
        " +a\n",
        "2\n",
        "2\n",
        "​\n",
        " +a\n",
        "3\n",
        "2\n",
        "​\n",
        "\n",
        "​\n",
        " =\n",
        "a⋅a\n",
        "​\n",
        " =\n",
        "inner(a,a)\n",
        "​\n",
        "\n",
        "Phân tích:\n",
        "a. np.sqrt(a.dot(a)) ✅ đúng\n",
        "\n",
        "b. np.sqrt(a @ a) ✅ đúng (dấu @ là toán tử dot product từ Python 3.5+)\n",
        "\n",
        "c. np.sqrt(np.inner(a,a)) ✅ đúng\n",
        "\n",
        "d. mag = lambda x : math.sqrt(sum(i**2 for i in x))\n",
        "→ đúng về mặt ý tưởng, nhưng cần import math trước\n",
        "\n",
        "✅ Đáp án đúng là: Tất cả các phương án a, b, c, d đều tính đúng chuẩn 2 (nếu có import math cho d)."
      ],
      "metadata": {
        "id": "yGkYpvrZ94Bq"
      }
    },
    {
      "cell_type": "code",
      "source": [
        "# ✅ Câu 2: Viết chương trình\n",
        "# a. Tính khoảng cách giữa 2 vector u và v\n",
        "\n",
        "import numpy as np\n",
        "\n",
        "def vector_distance(u, v):\n",
        "    u = np.array(u)\n",
        "    v = np.array(v)\n",
        "    return np.linalg.norm(u - v)\n",
        "\n",
        "# Test\n",
        "u = [1, 2, 3]\n",
        "v = [4, 0, -1]\n",
        "print(\"Khoảng cách giữa u và v:\", vector_distance(u, v))\n",
        "\n",
        "# b. Tính góc\n",
        "# 𝜃\n",
        "# θ giữa 2 vector u và v\n",
        "import numpy as np\n",
        "import math\n",
        "\n",
        "def angle_between(u, v):\n",
        "    u = np.array(u)\n",
        "    v = np.array(v)\n",
        "    dot_product = np.dot(u, v)\n",
        "    norm_u = np.linalg.norm(u)\n",
        "    norm_v = np.linalg.norm(v)\n",
        "    cos_theta = dot_product / (norm_u * norm_v)\n",
        "    angle_rad = math.acos(np.clip(cos_theta, -1.0, 1.0))  # clip để tránh lỗi do làm tròn\n",
        "    angle_deg = math.degrees(angle_rad)\n",
        "    return angle_deg\n",
        "\n",
        "# Test\n",
        "u = [1, 0]\n",
        "v = [0, 1]\n",
        "print(\"Góc giữa u và v (độ):\", angle_between(u, v))\n",
        "\n",
        "# c. Tính phép chiếu trực giao của u lên v\n",
        "\n",
        "import numpy as np\n",
        "\n",
        "def orthogonal_projection(u, v):\n",
        "    u = np.array(u)\n",
        "    v = np.array(v)\n",
        "    coefficient = np.dot(u, v) / np.dot(v, v)\n",
        "    proj = coefficient * v\n",
        "    return proj\n",
        "\n",
        "# Test\n",
        "u = [1, 2]\n",
        "v = [3, 0]\n",
        "print(\"Phép chiếu của u lên v:\", orthogonal_projection(u, v))"
      ],
      "metadata": {
        "colab": {
          "base_uri": "https://localhost:8080/"
        },
        "id": "_WtykNVY95SC",
        "outputId": "512f5e99-9bdc-4c3e-e9ca-fcbde10e6e8f"
      },
      "execution_count": 6,
      "outputs": [
        {
          "output_type": "stream",
          "name": "stdout",
          "text": [
            "Khoảng cách giữa u và v: 5.385164807134504\n",
            "Góc giữa u và v (độ): 90.0\n",
            "Phép chiếu của u lên v: [1. 0.]\n"
          ]
        }
      ]
    }
  ]
}