{
  "nbformat": 4,
  "nbformat_minor": 0,
  "metadata": {
    "colab": {
      "provenance": [],
      "authorship_tag": "ABX9TyPYn/vVLDt6Q0DCBzbMge17",
      "include_colab_link": true
    },
    "kernelspec": {
      "name": "python3",
      "display_name": "Python 3"
    },
    "language_info": {
      "name": "python"
    }
  },
  "cells": [
    {
      "cell_type": "markdown",
      "metadata": {
        "id": "view-in-github",
        "colab_type": "text"
      },
      "source": [
        "<a href=\"https://colab.research.google.com/github/vanhuugiacuong/Dai_So_Tuyen_Tinh/blob/master/lab7.ipynb\" target=\"_parent\"><img src=\"https://colab.research.google.com/assets/colab-badge.svg\" alt=\"Open In Colab\"/></a>"
      ]
    },
    {
      "cell_type": "markdown",
      "source": [
        "1. Giới thiệu một số ứng dụng của tích vector (dot product)"
      ],
      "metadata": {
        "id": "KUNeh163ArWC"
      }
    },
    {
      "cell_type": "code",
      "execution_count": 8,
      "metadata": {
        "colab": {
          "base_uri": "https://localhost:8080/"
        },
        "id": "Q3qgTQAt_zK3",
        "outputId": "68fdc0ac-a739-43d9-9ed7-5c246a92208f"
      },
      "outputs": [
        {
          "output_type": "stream",
          "name": "stdout",
          "text": [
            "Chiều dài: 10 3\n",
            "Ma trận B:\n",
            " [[ 0  0 -1]\n",
            " [ 0 -1  2]\n",
            " [-1  2  3]\n",
            " [ 2  3 -1]\n",
            " [ 3 -1  0]\n",
            " [-1  0  1]\n",
            " [ 0  1 -1]\n",
            " [ 1 -1 -1]]\n",
            "Vector dot products:\n",
            " [ 1 -3 -1  4 -1 -1  2  0]\n",
            "Giá trị chuẩn: 2\n",
            "Tìm thấy tại vị trí 6: [ 0  1 -1]\n"
          ]
        }
      ],
      "source": [
        "import numpy as np\n",
        "\n",
        "A = np.array([0, 0, -1, 2, 3, -1, 0, 1, -1, -1])\n",
        "search_vector = np.array([0, 1, -1])\n",
        "\n",
        "# Kiểm tra chiều dài\n",
        "print(\"Chiều dài:\", len(A), len(search_vector))  # (10, 3)\n",
        "\n",
        "# Bước 1: Tạo ma trận B, mỗi hàng là 1 đoạn con độ dài bằng search_vector\n",
        "B = np.array([A[i:i+len(search_vector)] for i in range(len(A)-len(search_vector)+1)])\n",
        "print(\"Ma trận B:\\n\", B)\n",
        "\n",
        "# Bước 2: Tính dot product từng hàng với search_vector\n",
        "C = np.inner(B, search_vector)\n",
        "print(\"Vector dot products:\\n\", C)\n",
        "\n",
        "# Bước 3: So sánh từng kết quả với giá trị chuẩn\n",
        "target = np.inner(search_vector, search_vector)\n",
        "print(\"Giá trị chuẩn:\", target)\n",
        "\n",
        "# Bước 4: In ra các vị trí trùng khớp\n",
        "for i in range(len(C)):\n",
        "    if C[i] == target:\n",
        "        print(f\"Tìm thấy tại vị trí {i}: {B[i]}\")"
      ]
    },
    {
      "cell_type": "markdown",
      "source": [
        "2.1.Đơn giản hóa thuật toán Pagerank"
      ],
      "metadata": {
        "id": "Dxb6c5orA-Vd"
      }
    },
    {
      "cell_type": "code",
      "source": [
        "import numpy as np\n",
        "\n",
        "# Ví dụ ma trận A kích thước 4x4\n",
        "A = np.array([\n",
        "    [0.5, 0.2, 0.2, 0.1],\n",
        "    [0.1, 0.7, 0.1, 0.1],\n",
        "    [0.2, 0.2, 0.5, 0.1],\n",
        "    [0.2, 0.1, 0.2, 0.5]\n",
        "])\n",
        "\n",
        "# Vector ban đầu x\n",
        "x = np.array([1.0, 1.0, 1.0, 1.0])\n",
        "\n",
        "# Lặp 10 lần\n",
        "for i in range(10):\n",
        "    x = np.dot(A, x)\n",
        "    print(f\"Lần {i+1}: {x}\")"
      ],
      "metadata": {
        "colab": {
          "base_uri": "https://localhost:8080/"
        },
        "id": "B-BzSG14A-oU",
        "outputId": "dcca49e6-1ac7-4a96-bf4f-876cf26d8db1"
      },
      "execution_count": 7,
      "outputs": [
        {
          "output_type": "stream",
          "name": "stdout",
          "text": [
            "Lần 1: [1. 1. 1. 1.]\n",
            "Lần 2: [1. 1. 1. 1.]\n",
            "Lần 3: [1. 1. 1. 1.]\n",
            "Lần 4: [1. 1. 1. 1.]\n",
            "Lần 5: [1. 1. 1. 1.]\n",
            "Lần 6: [1. 1. 1. 1.]\n",
            "Lần 7: [1. 1. 1. 1.]\n",
            "Lần 8: [1. 1. 1. 1.]\n",
            "Lần 9: [1. 1. 1. 1.]\n",
            "Lần 10: [1. 1. 1. 1.]\n"
          ]
        }
      ]
    },
    {
      "cell_type": "markdown",
      "source": [
        "2.2. [Đọc thêm] Xử lý dangling node trong thuật toán Pagerank"
      ],
      "metadata": {
        "id": "QccQ3Xn_CIka"
      }
    },
    {
      "cell_type": "code",
      "source": [
        "import numpy as np\n",
        "\n",
        "x = np.array([1.0, 1.0, 1.0, 1.0])\n",
        "A = np.array([\n",
        "    [0,     0,     1.0/2, 1/4.0],\n",
        "    [1.0/3, 0,     0,     1/4.0],\n",
        "    [1.0/3, 0,     0,     1/4.0],\n",
        "    [1.0/3, 1.0,   1.0/2, 1/4.0]\n",
        "])\n",
        "\n",
        "for i in range(7):\n",
        "    x = np.dot(A, x)\n",
        "    print(f\"{i+1}: {x}\")"
      ],
      "metadata": {
        "colab": {
          "base_uri": "https://localhost:8080/"
        },
        "id": "RJqiAg2TCH68",
        "outputId": "b83b949b-bf72-49b9-bc4a-54ab2894fe0c"
      },
      "execution_count": 6,
      "outputs": [
        {
          "output_type": "stream",
          "name": "stdout",
          "text": [
            "1: [0.75       0.58333333 0.58333333 2.08333333]\n",
            "2: [0.8125     0.77083333 0.77083333 1.64583333]\n",
            "3: [0.796875   0.68229167 0.68229167 1.83854167]\n",
            "4: [0.80078125 0.72526042 0.72526042 1.74869792]\n",
            "5: [0.79980469 0.70410156 0.70410156 1.79199219]\n",
            "6: [0.80004883 0.71459961 0.71459961 1.77075195]\n",
            "7: [0.79998779 0.70937093 0.70937093 1.78127035]\n"
          ]
        }
      ]
    },
    {
      "cell_type": "markdown",
      "source": [
        "2.3. [Đọc thêm] Xử lý nhánh web reducible"
      ],
      "metadata": {
        "id": "CmV7PvbLCLpj"
      }
    },
    {
      "cell_type": "code",
      "source": [
        "import numpy as np\n",
        "\n",
        "A = np.array([\n",
        "    [0.0,   0.0,   1/2.0, 0.0,   0.0, 0.0, 0.0, 0.0],\n",
        "    [1/3.0, 0.0,   1/2.0, 0.0,   0.0, 0.0, 0.0, 0.0],\n",
        "    [1/3.0, 0.0,   0.0,   0.0,   0.0, 0.0, 0.0, 0.0],\n",
        "    [1/3.0, 1/2.0, 1/2.0, 0.0,   0.0, 0.0, 0.0, 0.0],\n",
        "    [0.0,   1/2.0, 0.0,   0.0,   0.0, 1/2.0, 0.0, 0.0],\n",
        "    [0.0,   0.0,   0.0,   0.0,   0.0, 0.0,   1.0, 1/2.0],\n",
        "    [0.0,   0.0,   0.0,   1/2.0, 1.0, 0.0,   0.0, 1/2.0],\n",
        "    [0.0,   0.0,   0.0,   0.0,   0.0, 1/2.0, 0.0, 0.0]\n",
        "])\n",
        "\n",
        "d = 0.85\n",
        "N = 8\n",
        "x = np.array([1.0/N] * N)\n",
        "\n",
        "# Tạo ma trận ngẫu nhiên hiệu chỉnh M:\n",
        "M = d * A + ((1 - d) / N) * np.ones((N, N))\n",
        "\n",
        "for i in range(7):\n",
        "    x = np.dot(M, x)\n",
        "    print(f\"{i+1}: {x}\")"
      ],
      "metadata": {
        "colab": {
          "base_uri": "https://localhost:8080/"
        },
        "id": "3UighDzzCywt",
        "outputId": "f0791aa6-d8ff-4b38-d256-45765d37b43c"
      },
      "execution_count": 5,
      "outputs": [
        {
          "output_type": "stream",
          "name": "stdout",
          "text": [
            "1: [0.071875   0.10729167 0.05416667 0.16041667 0.125      0.178125\n",
            " 0.23125    0.071875  ]\n",
            "2: [0.04177083 0.06213542 0.03911458 0.10773437 0.14005208 0.24585938\n",
            " 0.22372396 0.09445312]\n",
            "3: [0.03452702 0.04636209 0.02973839 0.07276964 0.14880111 0.24821126\n",
            " 0.22287728 0.12239355]\n",
            "4: [0.02999532 0.03977798 0.02713916 0.05948186 0.14255018 0.25881945\n",
            " 0.2267818  0.12284629]\n",
            "5: [0.02854774 0.03704642 0.02551228 0.05395206 0.14391751 0.26198781\n",
            " 0.21567072 0.12701187]\n",
            "6: [0.02759859 0.03568711 0.0248444  0.05143184 0.14384542 0.25405603\n",
            " 0.21599542 0.12810069]\n",
            "7: [0.02708811 0.03490771 0.02434884 0.05007473 0.13967008 0.25456814\n",
            " 0.21509917 0.12450305]\n"
          ]
        }
      ]
    },
    {
      "cell_type": "markdown",
      "source": [
        "BÀI TẬP CHƯƠNG 7"
      ],
      "metadata": {
        "id": "wz2qE-qrDZZv"
      }
    },
    {
      "cell_type": "code",
      "source": [
        "# Câu 1: Làm mờ bằng Gaussian Kernel\n",
        "\n",
        "import cv2\n",
        "import numpy as np\n",
        "from matplotlib import pyplot as plt\n",
        "import urllib.request\n",
        "\n",
        "# Download a sample image\n",
        "url = 'https://upload.wikimedia.org/wikipedia/commons/thumb/a/a7/Puppy_on_white_%28cropped%29.jpg/800px-Puppy_on_white_%28cropped%29.jpg'\n",
        "file_name = 'sample_puppy.jpg'\n",
        "# urllib.request.urlretrieve(url, file_name)\n",
        "\n",
        "# Đọc ảnh grayscale\n",
        "img = cv2.imread(file_name, cv2.IMREAD_GRAYSCALE)\n",
        "\n",
        "# Gaussian kernel (3x3)\n",
        "gaussian_kernel = (1/16) * np.array([\n",
        "    [1, 2, 1],\n",
        "    [2, 4, 2],\n",
        "    [1, 2, 1]\n",
        "])\n",
        "\n",
        "# Áp dụng Gaussian blur bằng filter2D\n",
        "blurred = cv2.filter2D(img, -1, gaussian_kernel)\n",
        "\n",
        "# Hiển thị kết quả\n",
        "plt.subplot(1,2,1), plt.imshow(img, cmap='gray'), plt.title('Original')\n",
        "plt.subplot(1,2,2), plt.imshow(blurred, cmap='gray'), plt.title('Gaussian Blurred')\n",
        "plt.show()\n",
        "\n",
        "\n",
        "#  Câu 2: Phương pháp “rút xương” (Edge detection)\n",
        "kernel_a = np.array([\n",
        "    [0, -1, 0],\n",
        "    [-1, 4, -1],\n",
        "    [0, -1, 0]\n",
        "])"
      ],
      "metadata": {
        "colab": {
          "base_uri": "https://localhost:8080/",
          "height": 219
        },
        "id": "PAN2eh2VDNrE",
        "outputId": "fceb67b6-b4e5-4707-c863-3bee19295611"
      },
      "execution_count": 4,
      "outputs": [
        {
          "output_type": "error",
          "ename": "error",
          "evalue": "OpenCV(4.11.0) /io/opencv/modules/imgproc/src/filter.dispatch.cpp:1528: error: (-215:Assertion failed) !_src.empty() in function 'filter2D'\n",
          "traceback": [
            "\u001b[0;31m---------------------------------------------------------------------------\u001b[0m",
            "\u001b[0;31merror\u001b[0m                                     Traceback (most recent call last)",
            "\u001b[0;32m/tmp/ipython-input-4-1361560953.py\u001b[0m in \u001b[0;36m<cell line: 0>\u001b[0;34m()\u001b[0m\n\u001b[1;32m     22\u001b[0m \u001b[0;34m\u001b[0m\u001b[0m\n\u001b[1;32m     23\u001b[0m \u001b[0;31m# Áp dụng Gaussian blur bằng filter2D\u001b[0m\u001b[0;34m\u001b[0m\u001b[0;34m\u001b[0m\u001b[0m\n\u001b[0;32m---> 24\u001b[0;31m \u001b[0mblurred\u001b[0m \u001b[0;34m=\u001b[0m \u001b[0mcv2\u001b[0m\u001b[0;34m.\u001b[0m\u001b[0mfilter2D\u001b[0m\u001b[0;34m(\u001b[0m\u001b[0mimg\u001b[0m\u001b[0;34m,\u001b[0m \u001b[0;34m-\u001b[0m\u001b[0;36m1\u001b[0m\u001b[0;34m,\u001b[0m \u001b[0mgaussian_kernel\u001b[0m\u001b[0;34m)\u001b[0m\u001b[0;34m\u001b[0m\u001b[0;34m\u001b[0m\u001b[0m\n\u001b[0m\u001b[1;32m     25\u001b[0m \u001b[0;34m\u001b[0m\u001b[0m\n\u001b[1;32m     26\u001b[0m \u001b[0;31m# Hiển thị kết quả\u001b[0m\u001b[0;34m\u001b[0m\u001b[0;34m\u001b[0m\u001b[0m\n",
            "\u001b[0;31merror\u001b[0m: OpenCV(4.11.0) /io/opencv/modules/imgproc/src/filter.dispatch.cpp:1528: error: (-215:Assertion failed) !_src.empty() in function 'filter2D'\n"
          ]
        }
      ]
    }
  ]
}