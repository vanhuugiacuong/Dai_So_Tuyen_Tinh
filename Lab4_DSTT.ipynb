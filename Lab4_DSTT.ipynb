{
  "nbformat": 4,
  "nbformat_minor": 0,
  "metadata": {
    "colab": {
      "provenance": [],
      "toc_visible": true,
      "authorship_tag": "ABX9TyPIDUZqLO8iR/xU8yaoVjaB",
      "include_colab_link": true
    },
    "kernelspec": {
      "name": "python3",
      "display_name": "Python 3"
    },
    "language_info": {
      "name": "python"
    }
  },
  "cells": [
    {
      "cell_type": "markdown",
      "metadata": {
        "id": "view-in-github",
        "colab_type": "text"
      },
      "source": [
        "<a href=\"https://colab.research.google.com/github/vanhuugiacuong/Dai_So_Tuyen_Tinh/blob/master/Lab4_DSTT.ipynb\" target=\"_parent\"><img src=\"https://colab.research.google.com/assets/colab-badge.svg\" alt=\"Open In Colab\"/></a>"
      ]
    },
    {
      "cell_type": "markdown",
      "source": [
        "1. Định thức và các tính chất"
      ],
      "metadata": {
        "id": "d4Ea8RLr5AlU"
      }
    },
    {
      "cell_type": "code",
      "execution_count": 1,
      "metadata": {
        "colab": {
          "base_uri": "https://localhost:8080/"
        },
        "id": "_4PwOKzl46s0",
        "outputId": "494cbe68-b7ea-4629-e520-cff1435580ee"
      },
      "outputs": [
        {
          "output_type": "stream",
          "name": "stdout",
          "text": [
            "-1\n",
            "1\n",
            "1\n",
            "[(1, 2, 3), (1, 3, 2), (2, 1, 3), (2, 3, 1), (3, 1, 2), (3, 2, 1)]\n",
            "0\n",
            "85\n"
          ]
        }
      ],
      "source": [
        "def sgn_by_def(sigma):\n",
        "    n = len(sigma)\n",
        "    numerator = 1\n",
        "    denominator = 1\n",
        "    for i in range(n):\n",
        "        for j in range(i+1, n):\n",
        "            numerator *= sigma[i] - sigma[j]\n",
        "            denominator *= i - j\n",
        "    return int(numerator / denominator)\n",
        "\n",
        "import numpy as np\n",
        "\n",
        "# Hoán vị gốc\n",
        "sigma = np.array([2, 1, 3, 4])\n",
        "print(sgn_by_def(sigma))  # Kết quả: -1\n",
        "\n",
        "sigma = np.array([1, 2, 3, 4])\n",
        "print(sgn_by_def(sigma))  # Kết quả: 1 (đồng nhất)\n",
        "\n",
        "sigma = np.array([4, 3, 2, 1])\n",
        "print(sgn_by_def(sigma))  # Kết quả: 1 (số chẵn hoán vị ngược hoàn toàn)\n",
        "\n",
        "from itertools import permutations\n",
        "\n",
        "n = 3\n",
        "X = list(range(1, n+1))\n",
        "Sn = list(permutations(X))\n",
        "print(Sn)\n",
        "\n",
        "def phatsinh_dinhthuc(n):\n",
        "    from itertools import permutations\n",
        "    import numpy as np\n",
        "\n",
        "    A = np.arange(1, n*n + 1).reshape(n, n)  # Ma trận mẫu\n",
        "    X = list(range(n))\n",
        "    Sn = list(permutations(X))\n",
        "\n",
        "    det = 0\n",
        "    for sigma in Sn:\n",
        "        sign = sgn_by_def(sigma)\n",
        "        product = 1\n",
        "        for i in range(n):\n",
        "            product *= A[i][sigma[i]]\n",
        "        det += sign * product\n",
        "    return det\n",
        "\n",
        "print(phatsinh_dinhthuc(3))  # Cho ma trận mẫu 3x3 (giá trị từ 1 đến 9)\n",
        "\n",
        "def tinhtoan_dinhthuc(A):\n",
        "    from itertools import permutations\n",
        "    import numpy as np\n",
        "\n",
        "    n = len(A)\n",
        "    X = list(range(n))\n",
        "    Sn = list(permutations(X))\n",
        "\n",
        "    det = 0\n",
        "    for sigma in Sn:\n",
        "        sign = sgn_by_def(sigma)\n",
        "        product = 1\n",
        "        for i in range(n):\n",
        "            product *= A[i][sigma[i]]\n",
        "        det += sign * product\n",
        "    return det\n",
        "\n",
        "import numpy as np\n",
        "\n",
        "A = np.array([\n",
        "    [3, 5, -8],\n",
        "    [4, 12, -1],\n",
        "    [2, 5, 3]\n",
        "])\n",
        "\n",
        "print(tinhtoan_dinhthuc(A))"
      ]
    },
    {
      "cell_type": "markdown",
      "source": [
        "2. Định thức và ma trận khả nghịch"
      ],
      "metadata": {
        "id": "cTxVxC7J5tUI"
      }
    },
    {
      "cell_type": "markdown",
      "source": [
        "3. Quy tắc Cramer"
      ],
      "metadata": {
        "id": "HfGsgr_26AVV"
      }
    },
    {
      "cell_type": "code",
      "source": [
        "import numpy as np\n",
        "from scipy import linalg\n",
        "\n",
        "# Phần 1: Hệ 2 phương trình tuyến tính\n",
        "\n",
        "# Khai báo ma trận A, A1, A2\n",
        "A = np.array([[4, -2], [3, -5]])\n",
        "A1 = np.array([[10, -2], [11, -5]])\n",
        "A2 = np.array([[4, 10], [3, 11]])\n",
        "\n",
        "# Tính các định thức\n",
        "detA = linalg.det(A)\n",
        "detA1 = linalg.det(A1)\n",
        "detA2 = linalg.det(A2)\n",
        "\n",
        "print(\"detA =\", detA)\n",
        "print(\"detA1 =\", detA1)\n",
        "print(\"detA2 =\", detA2)\n",
        "\n",
        "if detA != 0:\n",
        "    x1 = detA1 / detA\n",
        "    x2 = detA2 / detA\n",
        "    print(\"Hai nghiệm của phương trình là:\", x1, x2)\n",
        "else:\n",
        "    print(\"Hệ phương trình vô nghiệm hoặc vô số nghiệm\")\n",
        "\n",
        "# Phần 2: Hàm tinhtoan_dinhthuc() tự định nghĩa\n",
        "\n",
        "def tinhtoan_dinhthuc(mat):\n",
        "    return round(np.linalg.det(mat), 5)\n",
        "\n",
        "print(\"Tính bằng hàm tinhtoan_dinhthuc():\")\n",
        "print(\"detA =\", tinhtoan_dinhthuc(A))\n",
        "print(\"detA1 =\", tinhtoan_dinhthuc(A1))\n",
        "print(\"detA2 =\", tinhtoan_dinhthuc(A2))\n",
        "\n",
        " # Phần 3: Giải hệ 3 phương trình tuyến tính\n",
        "\n",
        " # Khai báo các ma trận\n",
        "A = np.array([[-1, 2, -3],\n",
        "              [2, -2, 1],\n",
        "              [3, -4, 4]])\n",
        "B = np.array([1, 3, 2])\n",
        "\n",
        "# Tạo các ma trận thay từng cột bởi vector B\n",
        "A1 = A.copy()\n",
        "A1[:, 0] = B\n",
        "\n",
        "A2 = A.copy()\n",
        "A2[:, 1] = B\n",
        "\n",
        "A3 = A.copy()\n",
        "A3[:, 2] = B\n",
        "\n",
        "# Tính bằng scipy\n",
        "detA = linalg.det(A)\n",
        "detX = linalg.det(A1)\n",
        "detY = linalg.det(A2)\n",
        "detZ = linalg.det(A3)\n",
        "\n",
        "print(\"Tính bằng scipy.linalg:\")\n",
        "print(\"detA =\", detA)\n",
        "print(\"detX =\", detX)\n",
        "print(\"detY =\", detY)\n",
        "print(\"detZ =\", detZ)\n",
        "\n",
        "if detA != 0:\n",
        "    x = detX / detA\n",
        "    y = detY / detA\n",
        "    z = detZ / detA\n",
        "    print(\"Nghiệm hệ phương trình: x =\", x, \"y =\", y, \"z =\", z)\n",
        "else:\n",
        "    print(\"Hệ phương trình vô nghiệm hoặc vô số nghiệm\")\n",
        "\n",
        "# Dùng lại hàm đã định nghĩa ở trên\n",
        "print(\"\\nTính bằng tinhtoan_dinhthuc():\")\n",
        "detA = tinhtoan_dinhthuc(A)\n",
        "detX = tinhtoan_dinhthuc(A1)\n",
        "detY = tinhtoan_dinhthuc(A2)\n",
        "detZ = tinhtoan_dinhthuc(A3)\n",
        "\n",
        "x = detX / detA\n",
        "y = detY / detA\n",
        "z = detZ / detA\n",
        "print(\"Nghiệm: x =\", x, \"y =\", y, \"z =\", z)"
      ],
      "metadata": {
        "colab": {
          "base_uri": "https://localhost:8080/"
        },
        "id": "6ay-2k6Q5F17",
        "outputId": "16efc435-d5f0-4fb3-ae23-f18f56eab3c3"
      },
      "execution_count": 2,
      "outputs": [
        {
          "output_type": "stream",
          "name": "stdout",
          "text": [
            "detA = -14.0\n",
            "detA1 = -28.0\n",
            "detA2 = 14.000000000000004\n",
            "Hai nghiệm của phương trình là: 2.0 -1.0000000000000002\n",
            "Tính bằng hàm tinhtoan_dinhthuc():\n",
            "detA = -14.0\n",
            "detA1 = -28.0\n",
            "detA2 = 14.0\n",
            "Tính bằng scipy.linalg:\n",
            "detA = 0.0\n",
            "detX = 0.0\n",
            "detY = 0.0\n",
            "detZ = 0.0\n",
            "Hệ phương trình vô nghiệm hoặc vô số nghiệm\n",
            "\n",
            "Tính bằng tinhtoan_dinhthuc():\n",
            "Nghiệm: x = nan y = nan z = nan\n"
          ]
        },
        {
          "output_type": "stream",
          "name": "stderr",
          "text": [
            "<ipython-input-2-2694444509>:82: RuntimeWarning: invalid value encountered in scalar divide\n",
            "  x = detX / detA\n",
            "<ipython-input-2-2694444509>:83: RuntimeWarning: invalid value encountered in scalar divide\n",
            "  y = detY / detA\n",
            "<ipython-input-2-2694444509>:84: RuntimeWarning: invalid value encountered in scalar divide\n",
            "  z = detZ / detA\n"
          ]
        }
      ]
    },
    {
      "cell_type": "markdown",
      "source": [
        "4. Bài toán ứng dụng 1: Tính diện tích đa giác, thể tích và các phương trình đường, mặt."
      ],
      "metadata": {
        "id": "Gqx-BH3c66FW"
      }
    },
    {
      "cell_type": "code",
      "source": [
        "import sympy as sp\n",
        "TG = sp.Matrix([[1, 0, 1], [4, 3, 1], [2, 2, 1]])\n",
        "area = 1/2 * TG.det()\n",
        "print(area)\n",
        "\n",
        "from sympy import *\n",
        "\n",
        "M = Matrix([[0, 4, 1, 1], [4, 0, 0, 1], [3, 5, 2, 1], [2, 2, 5, 1]])\n",
        "V = Rational(1, 6) * Abs(M.det())\n",
        "print(V)\n",
        "\n",
        "from sympy import *\n",
        "\n",
        "x, y, z = symbols('x y z')\n",
        "MP = Matrix([[x, y, z, 1], [-1, 3, 2, 1], [0, 1, 0, 1], [-2, 0, 1, 1]])\n",
        "eq = Eq(MP.det(), 0)\n",
        "print(eq)"
      ],
      "metadata": {
        "colab": {
          "base_uri": "https://localhost:8080/"
        },
        "id": "u29uYgO866_e",
        "outputId": "192db146-9213-4c27-a3a0-c658ebb0e026"
      },
      "execution_count": 4,
      "outputs": [
        {
          "output_type": "stream",
          "name": "stdout",
          "text": [
            "1.50000000000000\n",
            "12\n",
            "Eq(-4*x + 3*y - 5*z - 3, 0)\n"
          ]
        }
      ]
    },
    {
      "cell_type": "markdown",
      "source": [
        "5. Bài toán ứng dụng 3: Tính quỹ đạo của hành tinh/vệ tinh"
      ],
      "metadata": {
        "id": "7VqiiGUn8uSH"
      }
    },
    {
      "cell_type": "code",
      "source": [
        "from sympy import symbols, Eq, solve, pprint\n",
        "\n",
        "# Khai báo các ẩn số trong phương trình ellipse\n",
        "a, b, c, d, e, f = symbols('a b c d e f')\n",
        "\n",
        "# Giả sử 5 điểm trên quỹ đạo ellipse (bạn có thể thay đổi các điểm này)\n",
        "points = [(1, 1), (2, 3), (3, 2), (4, 5), (5, 4)]\n",
        "\n",
        "# Tạo hệ phương trình từ các điểm đã cho\n",
        "eqs = []\n",
        "for x_val, y_val in points:\n",
        "    equation = a*x_val**2 + b*x_val*y_val + c*y_val**2 + d*x_val + e*y_val + f\n",
        "    eqs.append(Eq(equation, 0))\n",
        "\n",
        "# Giải hệ 5 phương trình với 6 ẩn => sẽ ra nghiệm theo 1 ẩn tự do (ở đây ta giữ f = 1)\n",
        "# solve() sẽ trả về nghiệm dạng tham số nếu hệ thiếu 1 phương trình\n",
        "solutions = solve(eqs, (a, b, c, d, e), dict=True)\n",
        "\n",
        "# Thay f = 1 vào nghiệm để tìm phương trình ellipse hoàn chỉnh\n",
        "final_solution = solutions[0]\n",
        "final_solution = {key: val.subs(f, 1) for key, val in final_solution.items()}\n",
        "\n",
        "# Biến x, y dùng để biểu diễn phương trình tổng quát\n",
        "x, y = symbols('x y')\n",
        "\n",
        "# Tạo phương trình ellipse theo dạng: ax^2 + bxy + cy^2 + dx + ey + f = 0\n",
        "ellipse_expr = (\n",
        "    final_solution[a]*x**2 +\n",
        "    final_solution[b]*x*y +\n",
        "    final_solution[c]*y**2 +\n",
        "    final_solution[d]*x +\n",
        "    final_solution[e]*y +\n",
        "    1  # f = 1\n",
        ")\n",
        "\n",
        "# In ra phương trình ellipse\n",
        "print(\"Phương trình ellipse (quỹ đạo) là:\")\n",
        "pprint(Eq(ellipse_expr, 0))\n"
      ],
      "metadata": {
        "colab": {
          "base_uri": "https://localhost:8080/"
        },
        "id": "qRul2xt88vEv",
        "outputId": "a249aba5-2f8d-4842-a397-7912940d3f34"
      },
      "execution_count": 5,
      "outputs": [
        {
          "output_type": "stream",
          "name": "stdout",
          "text": [
            "Phương trình ellipse (quỹ đạo) là:\n",
            "    2                     2              \n",
            "11⋅x    5⋅x⋅y   7⋅x   11⋅y    7⋅y        \n",
            "───── - ───── - ─── + ───── - ─── + 1 = 0\n",
            " 12       3     12     12     12         \n"
          ]
        }
      ]
    },
    {
      "cell_type": "markdown",
      "source": [
        "\n",
        "**BAì TẬP CHƯƠNG 4**"
      ],
      "metadata": {
        "id": "etV7kTbj9MUV"
      }
    },
    {
      "cell_type": "markdown",
      "source": [
        "Câu 1: Tính ma trận hệ số kép (Cofactor) và ma trận liên hợp (Adjoint)"
      ],
      "metadata": {
        "id": "ZVUN25r09W4p"
      }
    },
    {
      "cell_type": "code",
      "source": [
        "from sympy import Matrix\n",
        "\n",
        "# Nhập ma trận A bất kỳ (ví dụ ma trận 3x3)\n",
        "A = Matrix([\n",
        "    [2, 3, 1],\n",
        "    [1, 0, 4],\n",
        "    [5, 6, 2]\n",
        "])\n",
        "\n",
        "# Tính ma trận hệ số kép (Cofactor matrix)\n",
        "cofactor_matrix = A.cofactor_matrix()\n",
        "print(\"Ma trận hệ số kép (Cofactor):\")\n",
        "print(cofactor_matrix)\n",
        "\n",
        "# Tính ma trận liên hợp (Adjoint matrix)\n",
        "adjoint_matrix = A.adjugate()\n",
        "print(\"\\nMa trận liên hợp (Adjoint):\")\n",
        "print(adjoint_matrix)"
      ],
      "metadata": {
        "colab": {
          "base_uri": "https://localhost:8080/"
        },
        "id": "KvwwdiD39TKm",
        "outputId": "a863f0f4-5570-4d33-999d-1f8be44b1b07"
      },
      "execution_count": 7,
      "outputs": [
        {
          "output_type": "stream",
          "name": "stdout",
          "text": [
            "Ma trận hệ số kép (Cofactor):\n",
            "Matrix([[-24, 18, 6], [0, -1, 3], [12, -7, -3]])\n",
            "\n",
            "Ma trận liên hợp (Adjoint):\n",
            "Matrix([[-24, 0, 12], [18, -1, -7], [6, 3, -3]])\n"
          ]
        }
      ]
    },
    {
      "cell_type": "markdown",
      "source": [
        "Câu 2: Tính phương trình đường tròn đi qua 3 điểm"
      ],
      "metadata": {
        "id": "fXU99Kfv9Y78"
      }
    },
    {
      "cell_type": "code",
      "source": [
        "from sympy import symbols, Matrix, simplify, Eq, pprint\n",
        "\n",
        "# Khai báo biến x, y\n",
        "x, y = symbols('x y')\n",
        "\n",
        "# Nhập 3 điểm thuộc đường tròn\n",
        "points = [(1, 2), (4, 1), (3, 5)]\n",
        "\n",
        "# Tạo ma trận 4x4 theo định thức đường tròn\n",
        "M = Matrix([\n",
        "    [x**2 + y**2, x, y, 1],\n",
        "    [points[0][0]**2 + points[0][1]**2, points[0][0], points[0][1], 1],\n",
        "    [points[1][0]**2 + points[1][1]**2, points[1][0], points[1][1], 1],\n",
        "    [points[2][0]**2 + points[2][1]**2, points[2][0], points[2][1], 1]\n",
        "])\n",
        "\n",
        "# Tính định thức\n",
        "circle_eq = simplify(M.det())\n",
        "\n",
        "# In phương trình đường tròn dưới dạng: expression = 0\n",
        "print(\"\\nPhương trình đường tròn là:\")\n",
        "pprint(Eq(circle_eq, 0))"
      ],
      "metadata": {
        "colab": {
          "base_uri": "https://localhost:8080/"
        },
        "id": "__lhl-WE9a1N",
        "outputId": "65dcf26e-71d5-4bac-9e52-b3b098615274"
      },
      "execution_count": 6,
      "outputs": [
        {
          "output_type": "stream",
          "name": "stdout",
          "text": [
            "\n",
            "Phương trình đường tròn là:\n",
            "    2              2                 \n",
            "11⋅x  - 65⋅x + 11⋅y  - 63⋅y + 136 = 0\n"
          ]
        }
      ]
    }
  ]
}