{
  "nbformat": 4,
  "nbformat_minor": 0,
  "metadata": {
    "colab": {
      "provenance": [],
      "authorship_tag": "ABX9TyP0FaOdow9PxLUIgi6+AvqH",
      "include_colab_link": true
    },
    "kernelspec": {
      "name": "python3",
      "display_name": "Python 3"
    },
    "language_info": {
      "name": "python"
    }
  },
  "cells": [
    {
      "cell_type": "markdown",
      "metadata": {
        "id": "view-in-github",
        "colab_type": "text"
      },
      "source": [
        "<a href=\"https://colab.research.google.com/github/vanhuugiacuong/Dai_So_Tuyen_Tinh/blob/master/ThiThucHanh.ipynb\" target=\"_parent\"><img src=\"https://colab.research.google.com/assets/colab-badge.svg\" alt=\"Open In Colab\"/></a>"
      ]
    },
    {
      "cell_type": "markdown",
      "source": [
        "Câu 1:"
      ],
      "metadata": {
        "id": "I35kUBlSGnGV"
      }
    },
    {
      "cell_type": "code",
      "execution_count": 1,
      "metadata": {
        "colab": {
          "base_uri": "https://localhost:8080/"
        },
        "id": "esOuOiP0F6-C",
        "outputId": "277cbe66-bbad-4cf1-b445-07ca0036d48b"
      },
      "outputs": [
        {
          "output_type": "stream",
          "name": "stdout",
          "text": [
            "a)\n",
            "A + B = [2 3 1 6]\n",
            "2A + 3B = [ 3 11  2 14]\n",
            "\n",
            "b)\n",
            "A · B = -5\n",
            "Góc giữa A và B (độ) = 99.594\n",
            "\n",
            "c)\n",
            "C * C^T =\n",
            " [[14 -8 13]\n",
            " [-8 21 -2]\n",
            " [13 -2 29]]\n"
          ]
        }
      ],
      "source": [
        "import numpy as np\n",
        "from numpy.linalg import norm\n",
        "from math import degrees, acos\n",
        "\n",
        "# Khởi tạo vector và ma trận\n",
        "A = np.array([3, -2, 1, 4])\n",
        "B = np.array([-1, 5, 0, 2])\n",
        "C = np.array([\n",
        "    [2, -1, 3],\n",
        "    [1, 4, -2],\n",
        "    [0, 2, 5]\n",
        "])\n",
        "\n",
        "# a) Tính tổng và tích số\n",
        "sum_AB = A + B\n",
        "scalar_combo = 2*A + 3*B\n",
        "\n",
        "print(\"a)\")\n",
        "print(\"A + B =\", sum_AB)\n",
        "print(\"2A + 3B =\", scalar_combo)\n",
        "\n",
        "# b) Tích vô hướng và góc giữa hai vector\n",
        "dot_product = np.dot(A, B)\n",
        "cos_theta = dot_product / (norm(A) * norm(B))\n",
        "angle_degrees = degrees(acos(cos_theta))\n",
        "\n",
        "print(\"\\nb)\")\n",
        "print(\"A · B =\", dot_product)\n",
        "print(\"Góc giữa A và B (độ) =\", round(angle_degrees, 3))\n",
        "\n",
        "# c) Tích ma trận C * C^T\n",
        "C_CT = C @ C.T\n",
        "\n",
        "print(\"\\nc)\")\n",
        "print(\"C * C^T =\\n\", C_CT)"
      ]
    },
    {
      "cell_type": "markdown",
      "source": [
        "Câu 2:"
      ],
      "metadata": {
        "id": "cng2SaHDGqBt"
      }
    },
    {
      "cell_type": "code",
      "source": [
        "import numpy as np\n",
        "\n",
        "# Khởi tạo ma trận M và N\n",
        "M = np.array([\n",
        "    [2, -1, 3, 0],\n",
        "    [1, 4, -2, 5],\n",
        "    [0, 2, 6, -3],\n",
        "    [-1, 0, 1, 4]\n",
        "])\n",
        "\n",
        "N = np.array([\n",
        "    [1, 3, -2, 0],\n",
        "    [4, -1, 5, 2],\n",
        "    [0, 2, 3, -1],\n",
        "    [-3, 1, 0, 4]\n",
        "])\n",
        "\n",
        "# a) Tích ma trận M * N\n",
        "product = M @ N\n",
        "\n",
        "# b) Định thức của M\n",
        "det_M = np.linalg.det(M)\n",
        "\n",
        "# c) Hạng của ma trận N\n",
        "rank_N = np.linalg.matrix_rank(N)\n",
        "\n",
        "# In kết quả\n",
        "print(\"a) M x N =\\n\", product)\n",
        "print(\"\\nb) Định thức của M =\", round(det_M, 3))\n",
        "print(\"\\nc) Hạng của ma trận N =\", rank_N)\n"
      ],
      "metadata": {
        "colab": {
          "base_uri": "https://localhost:8080/"
        },
        "id": "XyqmGeiIGrjL",
        "outputId": "98c00692-271a-474b-b8d6-eca09cffca87"
      },
      "execution_count": 2,
      "outputs": [
        {
          "output_type": "stream",
          "name": "stdout",
          "text": [
            "a) M x N =\n",
            " [[ -2  13   0  -5]\n",
            " [  2   0  12  30]\n",
            " [ 17   7  28 -14]\n",
            " [-13   3   5  15]]\n",
            "\n",
            "b) Định thức của M = 409.0\n",
            "\n",
            "c) Hạng của ma trận N = 4\n"
          ]
        }
      ]
    },
    {
      "cell_type": "markdown",
      "source": [
        "Câu 3:"
      ],
      "metadata": {
        "id": "CmUfSgU7H5dX"
      }
    },
    {
      "cell_type": "code",
      "source": [
        "import numpy as np\n",
        "\n",
        "# a) Khởi tạo ma trận P và vector B\n",
        "P = np.array([\n",
        "    [3, -1, 0, 2],\n",
        "    [1, 4, -2, 0],\n",
        "    [0, 1, 5, -1],\n",
        "    [2, 0, 1, 3]\n",
        "])\n",
        "\n",
        "B = np.array([6, 8, 3, 7])\n",
        "\n",
        "# Kiểm tra khả nghịch và tính nghịch đảo\n",
        "try:\n",
        "    P_inv = np.linalg.inv(P)\n",
        "    print(\"a) Ma trận nghịch đảo của P:\\n\", np.round(P_inv, 3))\n",
        "except np.linalg.LinAlgError:\n",
        "    print(\"a) Ma trận P không khả nghịch vì định thức bằng 0.\")\n",
        "\n",
        "# b) Giải hệ phương trình X = P^(-1) * B\n",
        "X = P_inv @ B\n",
        "print(\"\\nb) Nghiệm của hệ phương trình (x, y, z, w):\\n\", np.round(X, 3))\n",
        "\n",
        "# c) Kiểm tra nghiệm: P @ X ≈ B\n",
        "check = P @ X\n",
        "print(\"\\nc) Kiểm tra P * X:\\n\", np.round(check, 3))\n",
        "print(\"Vector B ban đầu:\\n\", B)\n"
      ],
      "metadata": {
        "colab": {
          "base_uri": "https://localhost:8080/"
        },
        "id": "NDdBftqLH7Ob",
        "outputId": "8e55aa02-5d2e-4e5a-c2c2-30c7b2419d40"
      },
      "execution_count": 3,
      "outputs": [
        {
          "output_type": "stream",
          "name": "stdout",
          "text": [
            "a) Ma trận nghịch đảo của P:\n",
            " [[ 0.5    0.1    0.1   -0.3  ]\n",
            " [-0.143  0.2    0.057  0.114]\n",
            " [-0.036 -0.05   0.164  0.079]\n",
            " [-0.321 -0.05  -0.121  0.507]]\n",
            "\n",
            "b) Nghiệm của hệ phương trình (x, y, z, w):\n",
            " [2.    1.714 0.429 0.857]\n",
            "\n",
            "c) Kiểm tra P * X:\n",
            " [6. 8. 3. 7.]\n",
            "Vector B ban đầu:\n",
            " [6 8 3 7]\n"
          ]
        }
      ]
    },
    {
      "cell_type": "markdown",
      "source": [
        "Câu 4"
      ],
      "metadata": {
        "id": "1hvO0LFYIMc8"
      }
    },
    {
      "cell_type": "code",
      "source": [
        "import numpy as np\n",
        "\n",
        "# Khởi tạo ma trận Q\n",
        "Q = np.array([\n",
        "    [5, -2, 1],\n",
        "    [0, 3, -1],\n",
        "    [2, 0, 4]\n",
        "])\n",
        "\n",
        "# a) Tính giá trị riêng và vector riêng\n",
        "eigenvalues, eigenvectors = np.linalg.eig(Q)\n",
        "\n",
        "print(\"a) Giá trị riêng:\")\n",
        "for i, val in enumerate(eigenvalues):\n",
        "    print(f\"λ{i+1} =\", round(val, 3))\n",
        "\n",
        "# b) Vector riêng chưa chuẩn hóa\n",
        "print(\"\\nb) Vector riêng tương ứng:\")\n",
        "for i in range(len(eigenvalues)):\n",
        "    print(f\"Vector riêng v{i+1}:\\n\", np.round(eigenvectors[:, i], 3))\n",
        "\n",
        "# c) Chuẩn hóa vector riêng\n",
        "print(\"\\nc) Vector riêng đã chuẩn hóa:\")\n",
        "for i in range(len(eigenvalues)):\n",
        "    v = eigenvectors[:, i]\n",
        "    v_norm = v / np.linalg.norm(v)\n",
        "    print(f\"v{i+1} chuẩn hóa:\\n\", np.round(v_norm, 3))\n"
      ],
      "metadata": {
        "colab": {
          "base_uri": "https://localhost:8080/"
        },
        "id": "VcEhNAmTIOS7",
        "outputId": "56e7ff56-4613-46ea-d516-7eb25657298f"
      },
      "execution_count": 4,
      "outputs": [
        {
          "output_type": "stream",
          "name": "stdout",
          "text": [
            "a) Giá trị riêng:\n",
            "λ1 = (6.355+0j)\n",
            "λ2 = (2.822+1.077j)\n",
            "λ3 = (2.822-1.077j)\n",
            "\n",
            "b) Vector riêng tương ứng:\n",
            "Vector riêng v1:\n",
            " [ 0.748+0.j -0.189+0.j  0.636+0.j]\n",
            "Vector riêng v2:\n",
            " [-0.374+0.342j  0.095+0.574j  0.636+0.j   ]\n",
            "Vector riêng v3:\n",
            " [-0.374-0.342j  0.095-0.574j  0.636-0.j   ]\n",
            "\n",
            "c) Vector riêng đã chuẩn hóa:\n",
            "v1 chuẩn hóa:\n",
            " [ 0.748+0.j -0.189+0.j  0.636+0.j]\n",
            "v2 chuẩn hóa:\n",
            " [-0.374+0.342j  0.095+0.574j  0.636+0.j   ]\n",
            "v3 chuẩn hóa:\n",
            " [-0.374-0.342j  0.095-0.574j  0.636-0.j   ]\n"
          ]
        },
        {
          "output_type": "stream",
          "name": "stderr",
          "text": [
            "/tmp/ipython-input-4-856830617.py:15: DeprecationWarning: The Python built-in `round` is deprecated for complex scalars, and will raise a `TypeError` in a future release. Use `np.round` or `scalar.round` instead.\n",
            "  print(f\"λ{i+1} =\", round(val, 3))\n"
          ]
        }
      ]
    },
    {
      "cell_type": "markdown",
      "source": [
        "Câu 5:"
      ],
      "metadata": {
        "id": "YztWFADDIaOs"
      }
    },
    {
      "cell_type": "code",
      "source": [
        "import numpy as np\n",
        "\n",
        "# Khởi tạo ma trận R và vector b\n",
        "R = np.array([\n",
        "    [4, -1, 2],\n",
        "    [1, 3, -2],\n",
        "    [0, 2, 5]\n",
        "])\n",
        "\n",
        "b = np.array([12, 5, 9])\n",
        "\n",
        "# a) Giải hệ phương trình Rx = b\n",
        "x_solve = np.linalg.solve(R, b)\n",
        "print(\"a) Nghiệm bằng np.linalg.solve():\\n\", np.round(x_solve, 3))\n",
        "\n",
        "# b) Kiểm tra khả nghịch và tính nghịch đảo\n",
        "det_R = np.linalg.det(R)\n",
        "print(\"\\nb) Định thức của R =\", round(det_R, 3))\n",
        "\n",
        "if det_R != 0:\n",
        "    R_inv = np.linalg.inv(R)\n",
        "    print(\"Ma trận R khả nghịch. Ma trận nghịch đảo:\\n\", np.round(R_inv, 3))\n",
        "    x_inv = R_inv @ b\n",
        "    print(\"Nghiệm bằng R^(-1) * b:\\n\", np.round(x_inv, 3))\n",
        "    print(\"Hai nghiệm giống nhau:\", np.allclose(x_solve, x_inv))\n",
        "else:\n",
        "    print(\"Ma trận R không khả nghịch.\")\n",
        "\n",
        "# c) Chuẩn Frobenius\n",
        "fro_norm = np.linalg.norm(R, 'fro')\n",
        "print(\"\\nc) Chuẩn Frobenius của R =\", round(fro_norm, 3))\n"
      ],
      "metadata": {
        "colab": {
          "base_uri": "https://localhost:8080/"
        },
        "id": "0wwIr1KEIbWG",
        "outputId": "600cec57-beb0-4bc2-b5e2-c3397d61e287"
      },
      "execution_count": 5,
      "outputs": [
        {
          "output_type": "stream",
          "name": "stdout",
          "text": [
            "a) Nghiệm bằng np.linalg.solve():\n",
            " [2.788 1.529 1.188]\n",
            "\n",
            "b) Định thức của R = 85.0\n",
            "Ma trận R khả nghịch. Ma trận nghịch đảo:\n",
            " [[ 0.224  0.106 -0.047]\n",
            " [-0.059  0.235  0.118]\n",
            " [ 0.024 -0.094  0.153]]\n",
            "Nghiệm bằng R^(-1) * b:\n",
            " [2.788 1.529 1.188]\n",
            "Hai nghiệm giống nhau: True\n",
            "\n",
            "c) Chuẩn Frobenius của R = 8.0\n"
          ]
        }
      ]
    }
  ]
}