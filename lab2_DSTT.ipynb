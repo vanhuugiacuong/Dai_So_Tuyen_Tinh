{
  "nbformat": 4,
  "nbformat_minor": 0,
  "metadata": {
    "colab": {
      "provenance": [],
      "authorship_tag": "ABX9TyNYW4Q+RSpOIGJccTXBDMRC",
      "include_colab_link": true
    },
    "kernelspec": {
      "name": "python3",
      "display_name": "Python 3"
    },
    "language_info": {
      "name": "python"
    }
  },
  "cells": [
    {
      "cell_type": "markdown",
      "metadata": {
        "id": "view-in-github",
        "colab_type": "text"
      },
      "source": [
        "<a href=\"https://colab.research.google.com/github/vanhuugiacuong/Dai_So_Tuyen_Tinh/blob/master/lab2_DSTT.ipynb\" target=\"_parent\"><img src=\"https://colab.research.google.com/assets/colab-badge.svg\" alt=\"Open In Colab\"/></a>"
      ]
    },
    {
      "cell_type": "code",
      "execution_count": 3,
      "metadata": {
        "colab": {
          "base_uri": "https://localhost:8080/"
        },
        "id": "rfFg7Pf-0UTX",
        "outputId": "7f65b47f-a28d-4cf8-9b88-a3249e99e381"
      },
      "outputs": [
        {
          "output_type": "stream",
          "name": "stdout",
          "text": [
            "3\n"
          ]
        }
      ],
      "source": [
        "# 1. Dẫn nhập – Một số hàm về xử lý vector với Python\n",
        "def scale(a, v):\n",
        "    return [a*vi for vi in v]\n",
        "\n",
        "def sumvector(v, w):\n",
        "    return [vi+wi for (vi, wi) in zip(v, w)]\n",
        "\n",
        "def dotvector(v, w):\n",
        "    return sum([vi*wi for (vi, wi) in zip(v, w)])\n",
        "\n",
        "def lenvector(v):\n",
        "    return dotvector(v, v)\n",
        "\n",
        "v = [3, 5, 7]\n",
        "w = [2, 4, 6]\n",
        "\n",
        "print(\"scale(10, v):\", scale(10, v))\n",
        "print(\"sumvector(v, w):\", sumvector(v, w))\n",
        "print(\"dotvector(v, w):\", dotvector(v, w))\n",
        "print(\"lenvector(w):\", lenvector(w))"
      ]
    },
    {
      "cell_type": "code",
      "source": [
        "#2. Bài toán ứng dụng 1 – Phân loại tuyến tính\n",
        "import numpy as np\n",
        "\n",
        "# Phân loại 2 loại\n",
        "scores = np.array([-1, 1, 2, -3, 5, -4])\n",
        "print(\"scores:\", scores)\n",
        "print(\"scores >= 0:\", scores >= 0)\n",
        "print(\"scores < 0:\", scores < 0)\n",
        "print(\"Phân loại 2 loại:\", np.select([scores >= 0, scores < 0], ['so duong', 'so am']))\n",
        "\n",
        "print()  # Dòng trống\n",
        "\n",
        "# Phân loại 3 loại\n",
        "scores = np.array([-1, 1, 2, 0, -3, 5, 0, -4])\n",
        "print(\"scores:\", scores)\n",
        "print(\"Phân loại 3 loại:\", np.select([scores > 0, scores == 0, scores < 0], ['so duong', 'so 0', 'so am']))"
      ],
      "metadata": {
        "id": "rKyOb6UQ0qL4"
      },
      "execution_count": null,
      "outputs": []
    },
    {
      "cell_type": "code",
      "source": [
        "# 3.1. Cơ bản về xử lý ma trận\n",
        "import numpy as np\n",
        "from scipy import linalg, sparse\n",
        "\n",
        "# 2. Tạo ma trận D\n",
        "D = np.mat([[3, 4], [5, 6]])\n",
        "print(\"Ma trận D:\")\n",
        "print(D)\n",
        "print()\n",
        "\n",
        "# 3. Ma trận ngẫu nhiên 5x7\n",
        "C = np.mat(np.random.random((5, 7)))\n",
        "print(\"Ma trận C (5x7, ngẫu nhiên):\")\n",
        "print(C)\n",
        "print()\n",
        "\n",
        "# 4. Ma trận ngẫu nhiên 2x2\n",
        "A = np.mat(np.random.random((2, 2)))\n",
        "print(\"Ma trận A (2x2, ngẫu nhiên):\")\n",
        "print(A)\n",
        "print()\n",
        "\n",
        "# 5. Mảng phức hợp và chuyển sang ma trận\n",
        "b = np.array([(1+5j, 2j, 3j), (4, 5, 6)])\n",
        "B = np.asmatrix(b)\n",
        "print(\"Mảng b:\")\n",
        "print(b)\n",
        "print(\"Ma trận B:\")\n",
        "print(B)\n",
        "print()\n",
        "\n",
        "# 6. Chuyển vị ma trận A\n",
        "print(\"A.T (chuyển vị của A):\")\n",
        "print(A.T)\n",
        "print()\n",
        "\n",
        "# 7. Ma trận nghịch đảo của A\n",
        "print(\"A.I (nghịch đảo của A):\")\n",
        "print(A.I)\n",
        "print(\"linalg.inv(A):\")\n",
        "print(linalg.inv(A))\n",
        "print()\n",
        "\n",
        "# 8. Ma trận dưới từ đường chéo\n",
        "M = np.array([[-1, 3, 2], [0, -2, 1], [1, 5, -2]])\n",
        "M_lower = np.tril(M)\n",
        "print(\"Ma trận dưới từ đường chéo của M:\")\n",
        "print(M_lower)\n",
        "print()\n",
        "\n",
        "# 9. Ma trận trên từ đường chéo\n",
        "M_upper = np.triu(M)\n",
        "print(\"Ma trận trên từ đường chéo của M:\")\n",
        "print(M_upper)\n",
        "print()\n",
        "\n",
        "# 10. Vector và ma trận đường chéo\n",
        "v_diag = np.diag(M)\n",
        "print(\"Vector đường chéo của M:\")\n",
        "print(v_diag)\n",
        "M_diag = np.diag(v_diag)\n",
        "print(\"Ma trận đường chéo từ vector v_diag:\")\n",
        "print(M_diag)\n",
        "print()\n",
        "\n",
        "# 11. Ma trận đơn vị 2x2\n",
        "I2 = np.identity(2)\n",
        "print(\"Ma trận đơn vị 2x2:\")\n",
        "print(I2)"
      ],
      "metadata": {
        "id": "jcWaYmdS4C-8"
      },
      "execution_count": null,
      "outputs": []
    },
    {
      "cell_type": "code",
      "source": [
        "# 3.2. Các phép biến đổi sơ cấp trên ma trận\n",
        "import numpy as np\n",
        "\n",
        "# Tạo ma trận A 6x6\n",
        "A = np.reshape(np.arange(36.0), (6, 6))\n",
        "print(\"Ma trận A:\")\n",
        "print(A)\n",
        "print()\n",
        "\n",
        "# Ma trận đơn vị 6x6\n",
        "I6 = np.identity(6)\n",
        "print(\"Ma trận đơn vị I6:\")\n",
        "print(I6)\n",
        "print()\n",
        "\n",
        "# Kích thước của ma trận A\n",
        "print(\"Số phần tử của A:\", A.size)\n",
        "print()\n",
        "\n",
        "# Đường chéo của ma trận A\n",
        "print(\"Đường chéo của A:\", np.diag(A))\n",
        "print()\n",
        "\n",
        "# Thành lập ma trận mới A = A + I6\n",
        "A = A + I6\n",
        "print(\"Ma trận A sau khi cộng I6:\")\n",
        "print(A)\n",
        "print()\n",
        "\n",
        "# Tích ma trận với vector\n",
        "vecB = np.array([1., 2., 3., 4., 5., 6.])\n",
        "C = A.dot(vecB)\n",
        "print(\"Tích A với vecB:\")\n",
        "print(C)\n",
        "print()\n",
        "\n",
        "# Khai báo ma trận D 2x6\n",
        "D = np.array([[1., 2., 3., 4., 5., 6.], [1., 0., 1., 0., 1., 0.]])\n",
        "print(\"Ma trận D:\")\n",
        "print(D)\n",
        "print()\n",
        "\n",
        "# Tích ma trận A và D\n",
        "E = A.dot(D.T)  # D.T để phù hợp kích thước nhân\n",
        "print(\"Tích A với D.T:\")\n",
        "print(E)\n",
        "print()\n",
        "\n",
        "# Ma trận F kích thước 6x2\n",
        "F = np.array([[1., 1.], [2., 0.], [3., 1.], [4., 0.], [5., 1.], [6., 0.]])\n",
        "print(\"Ma trận F:\")\n",
        "print(F)\n",
        "print()\n",
        "\n",
        "G = A.dot(F)\n",
        "print(\"Tích A với F:\")\n",
        "print(G)\n",
        "print()\n",
        "\n",
        "# Ma trận nghịch đảo của A\n",
        "A_inv = np.linalg.inv(A)\n",
        "print(\"Ma trận nghịch đảo của A:\")\n",
        "print(A_inv)\n",
        "print()\n",
        "\n",
        "# Kiểm tra np.linalg.inv(np.linalg.inv(A))\n",
        "A_double_inv = np.linalg.inv(np.linalg.inv(A))\n",
        "print(\"np.linalg.inv(np.linalg.inv(A)):\")\n",
        "print(A_double_inv)\n",
        "print()\n",
        "\n",
        "# Trả lời câu hỏi:\n",
        "print(\"Kết luận: np.linalg.inv(np.linalg.inv(A)) sẽ trả về chính ma trận A nếu A khả nghịch.\")"
      ],
      "metadata": {
        "id": "BW983krv464L"
      },
      "execution_count": null,
      "outputs": []
    },
    {
      "cell_type": "code",
      "source": [
        "# 4. Bài toán ứng dụng 2 – Tính toán dãy Fibonacci: Con đường tìm đến tỉ số vàng!\n",
        "import numpy as np\n",
        "\n",
        "A = np.array([[1, 1], [1, 0]])\n",
        "b = np.array([1, 0])\n",
        "n = 10\n",
        "\n",
        "for i in range(n):\n",
        "    b = A.dot(b)\n",
        "    print(b)"
      ],
      "metadata": {
        "id": "l79BiG2U5cmY"
      },
      "execution_count": null,
      "outputs": []
    },
    {
      "cell_type": "code",
      "source": [
        "# 5.1. Làm quen với giải hệ phương trình tuyến tính\n",
        "import numpy as np\n",
        "\n",
        "# Bước 1: Thành lập ma trận hệ số và vector hằng số\n",
        "A = np.array([[2, 3],\n",
        "              [5, 4]])\n",
        "b = np.array([8, 13])\n",
        "\n",
        "# Bước 2: Tính toán ma trận nghịch đảo của A\n",
        "A_inv = np.linalg.inv(A)\n",
        "print(\"Ma trận nghịch đảo của A:\")\n",
        "print(A_inv)\n",
        "\n",
        "# Bước 3: Tìm nghiệm x bằng nhân nghịch đảo với vector b\n",
        "x = A_inv.dot(b)\n",
        "print(\"Nghiệm của hệ phương trình (x, y) dùng nghịch đảo:\")\n",
        "print(x)\n",
        "\n",
        "# Hoặc dùng trực tiếp hàm np.linalg.solve\n",
        "x2 = np.linalg.solve(A, b)\n",
        "print(\"Nghiệm của hệ phương trình (x, y) dùng np.linalg.solve:\")\n",
        "print(x2)"
      ],
      "metadata": {
        "id": "cVdgTlhG6o-R"
      },
      "execution_count": null,
      "outputs": []
    },
    {
      "cell_type": "code",
      "source": [
        "# 5.2. Bài toán ứng dụng 3 – Đếm số lượng xe vào khu vực trung tâm\n",
        "import numpy as np\n",
        "\n",
        "# Ma trận hệ số\n",
        "A = np.matrix([\n",
        "    [-1, 0, 0, 1],\n",
        "    [1, -1, 0, 0],\n",
        "    [0, 1, -1, 0],\n",
        "    [0, 0, 1, -1]\n",
        "])\n",
        "\n",
        "# Tính ma trận nghịch đảo\n",
        "A_nghichdao = np.linalg.inv(A)\n",
        "print(\"Ma trận nghịch đảo của A:\")\n",
        "print(A_nghichdao)"
      ],
      "metadata": {
        "id": "8ZRsEiZG7XAa"
      },
      "execution_count": null,
      "outputs": []
    },
    {
      "cell_type": "markdown",
      "source": [
        "\n",
        "### ***BÀI TẬP CHƯƠNG 2***"
      ],
      "metadata": {
        "id": "45KRJRv57eyF"
      }
    },
    {
      "cell_type": "code",
      "source": [
        "import numpy as np\n",
        "\n",
        "# Problem 1: Giao hai đường thẳng trong R2\n",
        "A1 = np.array([[1, -1],\n",
        "               [2, -3]])\n",
        "b1 = np.array([-2, -6])\n",
        "nghiem1 = np.linalg.solve(A1, b1)\n",
        "print(\"Problem 1 (x, y):\", nghiem1)\n",
        "\n",
        "# Problem 2: Giao ba mặt phẳng trong R3\n",
        "A2 = np.array([[1, -1, 0],\n",
        "               [2, -1, -1],\n",
        "               [1, 1, 1]])\n",
        "b2 = np.array([2, 3, 6])\n",
        "nghiem2 = np.linalg.solve(A2, b2)\n",
        "print(\"Problem 2 (x, y, z):\", nghiem2)\n",
        "\n",
        "# Problem 3: Hệ số đa thức bậc hai\n",
        "A3 = np.array([[1, 1, 1],\n",
        "               [4, 2, 1],\n",
        "               [9, 3, 1]])\n",
        "b3 = np.array([4, 3, 4])\n",
        "nghiem3 = np.linalg.solve(A3, b3)\n",
        "print(\"Problem 3 (a, b, c):\", nghiem3)\n",
        "\n",
        "# Problem 4: Hệ số khi phân tích phân\n",
        "A4 = np.array([[1, 0, 1],\n",
        "               [1, 1, -2],\n",
        "               [-2, 1, 1]])\n",
        "b4 = np.array([1, -3, 0])\n",
        "nghiem4 = np.linalg.solve(A4, b4)\n",
        "print(\"Problem 4 (a, b, c):\", nghiem4)"
      ],
      "metadata": {
        "id": "6VowR-vM71K6"
      },
      "execution_count": null,
      "outputs": []
    }
  ]
}